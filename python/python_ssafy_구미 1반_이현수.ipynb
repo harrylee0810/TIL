{
 "cells": [
  {
   "cell_type": "code",
   "execution_count": 1,
   "metadata": {},
   "outputs": [
    {
     "name": "stdout",
     "output_type": "stream",
     "text": [
      "*****\n",
      "*****\n",
      "*****\n",
      "*****\n",
      "*****\n",
      "*****\n",
      "*****\n",
      "*****\n",
      "*****\n",
      "\n"
     ]
    }
   ],
   "source": [
    "# 두 개의 정수 n과 m이 주어집니다. \n",
    "# 반복문을 사용하지 않고 별(*) 문자를 이용해 \n",
    "# 가로 의 길이가 n, 세로의 길이가 m인 직사각형 형태를 출력해보세요.\n",
    "\n",
    "n = 5\n",
    "m = 9\n",
    "print(('*'*n+'\\n')*m)"
   ]
  },
  {
   "cell_type": "code",
   "execution_count": 2,
   "metadata": {},
   "outputs": [
    {
     "name": "stdout",
     "output_type": "stream",
     "text": [
      "87.75\n"
     ]
    }
   ],
   "source": [
    "# 다음 딕셔너리에서 평균 점수를 출력하시오.\n",
    "student = {'python' : 80, 'algorithm' : 99, 'django':89,'flask':83}\n",
    "\n",
    "total_scores = sum(student.values())\n",
    "avg_scores = total_scores / len(student)\n",
    "print(avg_scores)"
   ]
  },
  {
   "cell_type": "code",
   "execution_count": 3,
   "metadata": {},
   "outputs": [
    {
     "name": "stdout",
     "output_type": "stream",
     "text": [
      "87.75\n"
     ]
    }
   ],
   "source": [
    "t_score = 0\n",
    "for s_score in student.values():\n",
    "    t_score += s_score\n",
    "\n",
    "average_score = t_score / len(student)\n",
    "print(average_score)"
   ]
  },
  {
   "cell_type": "code",
   "execution_count": 4,
   "metadata": {},
   "outputs": [
    {
     "name": "stdout",
     "output_type": "stream",
     "text": [
      "각 혈액형의 학생수는 A형:3명, B형:3명, AB형:3명, O형:3명 입니다\n"
     ]
    }
   ],
   "source": [
    "# 다음은 학생들의 혈액형(A, B, AB, O)에 대한 데이터이다. \n",
    "# for문을 이용하여 각 혈액형 별 학생수의 합계를 구하시오.\n",
    "\n",
    "blood_types = ['A','B','A','O','AB','AB','O','A','B','O','B','AB']\n",
    "\n",
    "a = 0\n",
    "b = 0\n",
    "ab = 0\n",
    "o = 0\n",
    "for n in blood_types:\n",
    "    if n == \"A\":\n",
    "        a += 1\n",
    "    elif n == \"B\":\n",
    "        b += 1\n",
    "    elif n == \"AB\":\n",
    "        ab += 1\n",
    "    else:\n",
    "        o += 1\n",
    "\n",
    "print(f'각 혈액형의 학생수는 A형:{a}명, B형:{b}명, AB형:{ab}명, O형:{o}명 입니다')"
   ]
  },
  {
   "cell_type": "code",
   "execution_count": 7,
   "metadata": {},
   "outputs": [
    {
     "name": "stdout",
     "output_type": "stream",
     "text": [
      "A형 :  3\n",
      "B형 :  3\n",
      "AB형 :  3\n",
      "O형 :  3\n"
     ]
    }
   ],
   "source": [
    "#반복문 x\n",
    "print('A형 : ', blood_types.count('A'))\n",
    "print('B형 : ', blood_types.count('B'))\n",
    "print('AB형 : ', blood_types.count('AB'))\n",
    "print('O형 : ', blood_types.count('O'))"
   ]
  },
  {
   "cell_type": "code",
   "execution_count": 8,
   "metadata": {},
   "outputs": [
    {
     "name": "stdout",
     "output_type": "stream",
     "text": [
      "{'A': 3, 'B': 3, 'O': 3, 'AB': 3}\n"
     ]
    }
   ],
   "source": [
    "result = {}\n",
    "for blood_type in blood_types:\n",
    "    if blood_type in result:\n",
    "        result[blood_type] += 1\n",
    "    else:\n",
    "        result[blood_type] = 1\n",
    "print(result)"
   ]
  },
  {
   "cell_type": "code",
   "execution_count": null,
   "metadata": {},
   "outputs": [],
   "source": []
  }
 ],
 "metadata": {
  "kernelspec": {
   "display_name": "Python 3",
   "language": "python",
   "name": "python3"
  },
  "language_info": {
   "codemirror_mode": {
    "name": "ipython",
    "version": 3
   },
   "file_extension": ".py",
   "mimetype": "text/x-python",
   "name": "python",
   "nbconvert_exporter": "python",
   "pygments_lexer": "ipython3",
   "version": "3.7.1"
  }
 },
 "nbformat": 4,
 "nbformat_minor": 2
}
