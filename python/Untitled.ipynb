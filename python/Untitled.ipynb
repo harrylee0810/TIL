{
 "cells": [
  {
   "cell_type": "code",
   "execution_count": 4,
   "metadata": {},
   "outputs": [
    {
     "name": "stdout",
     "output_type": "stream",
     "text": [
      "15\n",
      "5\n"
     ]
    }
   ],
   "source": [
    "def calc(operator_fn, x, y):\n",
    "    return operator_fn(x,y)\n",
    "\n",
    "ret_val = calc(lambda a, b: a + b,10,5)\n",
    "print(ret_val)\n",
    "ret_val = calc(lambda a,b: a-b,10,5)\n",
    "print(ret_val)"
   ]
  },
  {
   "cell_type": "code",
   "execution_count": 10,
   "metadata": {},
   "outputs": [
    {
     "name": "stdout",
     "output_type": "stream",
     "text": [
      "1\n",
      "2\n",
      "3\n",
      "make_id() 호출의 결과: 4\n",
      "make_id() 호출의 결과: 5\n",
      "make_id() 호출의 결과: 6\n"
     ]
    }
   ],
   "source": [
    "def outer_func():\n",
    "    id = 0\n",
    "    \n",
    "    def inner_func():\n",
    "        nonlocal id\n",
    "        id +=1\n",
    "        return id\n",
    "    \n",
    "    return inner_func\n",
    "\n",
    "make_id = outer_func()\n",
    "print(make_id())\n",
    "print(make_id())\n",
    "print(make_id())\n",
    "\n",
    "print(\"make_id() 호출의 결과: {0}\".format(make_id()))\n",
    "print(\"make_id() 호출의 결과: {0}\".format(make_id()))\n",
    "print(\"make_id() 호출의 결과: {0}\".format(make_id()))\n",
    "\n"
   ]
  },
  {
   "cell_type": "code",
   "execution_count": null,
   "metadata": {},
   "outputs": [],
   "source": []
  }
 ],
 "metadata": {
  "kernelspec": {
   "display_name": "Python 3",
   "language": "python",
   "name": "python3"
  },
  "language_info": {
   "codemirror_mode": {
    "name": "ipython",
    "version": 3
   },
   "file_extension": ".py",
   "mimetype": "text/x-python",
   "name": "python",
   "nbconvert_exporter": "python",
   "pygments_lexer": "ipython3",
   "version": "3.6.5"
  }
 },
 "nbformat": 4,
 "nbformat_minor": 2
}
