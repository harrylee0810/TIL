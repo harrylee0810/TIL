{
 "cells": [
  {
   "cell_type": "markdown",
   "metadata": {},
   "source": [
    "# 시작하기전에\n",
    "\n",
    "<wikipedia - 객체지향 프로그래밍> \n",
    ">\n",
    "> 객체 지향 프로그래밍(영어: Object-Oriented Programming, OOP)은 컴퓨터 프 로그래밍의 패러다임의 하나이다. 객체 지향 프로그래밍은 컴퓨터 프로그램을 명령어의 목록으로 보는 시각에서 벗어나 여러 개의 독립된 단위, 즉 \"객체\"들의 모임으로 파악하고자 하는 것이다. 각각의 객체는 메시지를 주고받고, 데이터를 처리할 수 있다.\n",
    ">\n",
    "> 명령형 프로그래밍인 절차지향 프로그래밍에서 발전된 형태를 나타내며, 기본 구성요소는 다음과 같다.\n",
    "\n",
    "* 클래스(Class) - 같은 종류(또는 문제 해결을 위한)의 집단에 속하는 속성(attribute)과 행위(behavior)를 정의한 것으로 객체지향 프로그램의 기본적인 사용자 정의 데이터형(user define data type)이라고 할 수 있다. 클래스는 프로그래머가 아니지만 해결해야 할 문제가 속하는 영역에 종사하는 사람이라면 사용할 수 있고, 다른 클래스 또는 외부 요소와 독립적으로 디자인하여야 한다.\n",
    "\n",
    "\n",
    "* 인스턴스 - 클래스의 인스턴스(실제로 메모리상에 할당된 것)이다. 객체는 자신 고유의 속성(attribute)을 가지며 클래스에서 정의한 행위(behavior)를 수행할 수 있다. 객체의 행위는 클래스에 정의된 행위에 대한 정의를 공유함으로써 메모리를 경제적으로 사용한다.\n",
    "\n",
    "\n",
    "* 메서드(Method) - 클래스로부터 생성된 객체를 사용하는 방법으로서 객체에 명령을 내리는 것이라 할 수 있다. 메서드는 한 객체의 속성을 조작하는 데 사용된다."
   ]
  },
  {
   "cell_type": "code",
   "execution_count": 1,
   "metadata": {},
   "outputs": [
    {
     "name": "stdout",
     "output_type": "stream",
     "text": [
      "<class 'complex'>\n"
     ]
    }
   ],
   "source": [
    "# 복소수를 하나 만들어보고, 타입을 출력해봅시다.\n",
    "a = 3 + 4j\n",
    "print(type(a))"
   ]
  },
  {
   "cell_type": "code",
   "execution_count": 2,
   "metadata": {},
   "outputs": [
    {
     "name": "stdout",
     "output_type": "stream",
     "text": [
      "3.0\n",
      "4.0\n"
     ]
    }
   ],
   "source": [
    "# 허수부랑 실수부를 함께 출력해봅시다.\n",
    "print(a.real)\n",
    "print(a.imag)"
   ]
  },
  {
   "cell_type": "code",
   "execution_count": 3,
   "metadata": {},
   "outputs": [
    {
     "name": "stdout",
     "output_type": "stream",
     "text": [
      "[1, 3, 5]\n"
     ]
    }
   ],
   "source": [
    "# 리스트를 하나 만들고 정렬해봅시다.\n",
    "l =[5,1,3]\n",
    "l.sort()\n",
    "print(l)"
   ]
  },
  {
   "cell_type": "code",
   "execution_count": 4,
   "metadata": {},
   "outputs": [
    {
     "name": "stdout",
     "output_type": "stream",
     "text": [
      "['__add__', '__class__', '__contains__', '__delattr__', '__delitem__', '__dir__', '__doc__', '__eq__', '__format__', '__ge__', '__getattribute__', '__getitem__', '__gt__', '__hash__', '__iadd__', '__imul__', '__init__', '__init_subclass__', '__iter__', '__le__', '__len__', '__lt__', '__mul__', '__ne__', '__new__', '__reduce__', '__reduce_ex__', '__repr__', '__reversed__', '__rmul__', '__setattr__', '__setitem__', '__sizeof__', '__str__', '__subclasshook__', 'append', 'clear', 'copy', 'count', 'extend', 'index', 'insert', 'pop', 'remove', 'reverse', 'sort']\n"
     ]
    }
   ],
   "source": [
    "# 리스트가 할 수 있는 것들을 알아봅시다.\n",
    "print(dir(list))"
   ]
  },
  {
   "cell_type": "markdown",
   "metadata": {},
   "source": [
    "## 실습 문제\n",
    "\n",
    "> 프로그래밍으로 나와 친구의 이름을 저장해보세요.\n",
    ">\n",
    "\n",
    "**각자의 명함과 지갑을 만들어봅시다.**\n",
    "\n",
    "* 내 생일, 전화번호, 이메일주소 정보를 담은 변수를 확인해봅시다.\n",
    "\n",
    "* 주머니(pocket)에는 돈(won)을 포함하여 현재 가지고 있는 것을 작성해보세요.\n",
    "\n",
    "* 나는 인사를 하면서 내 명함에 있는 정보 하나를 이야기합니다. `greeting` 함수를 만듭시다.\n",
    "\n",
    "* 나는 주머니에 원하는 것과 갯수를 지정하여 넣을 수 있습니다. \n",
    "\n",
    "  기존에 값이 있으면, 갯수를 추가하고 없으면 새로 만드는 `in_my_pocket` 함수를 만듭시다.\n",
    "  \n",
    "**친구의 정보와 지갑도 만들어봅시다.**"
   ]
  },
  {
   "cell_type": "code",
   "execution_count": 10,
   "metadata": {},
   "outputs": [],
   "source": [
    "# 아래에 자유롭게 코드를 작성해보세요.\n",
    "my_name ='hwang'\n",
    "my_birthday = '1123'\n",
    "my_phone = '01027777777'\n",
    "\n",
    "my_pocket = {'won':500, 'phone':1, 'candy':5}\n",
    "def in_my_pocket(name, pocket, stuff, count):\n",
    "    if pocket.get(stuff):\n",
    "        pocket[stuff] += count\n",
    "    else:\n",
    "        pocket[stuff] = count\n",
    "    return pocket\n",
    "\n",
    "def greeting(name, phone):\n",
    "    print(f'안녕, 나는 {name}이야. 내 번호는 {phone}이야')\n",
    "    "
   ]
  },
  {
   "cell_type": "code",
   "execution_count": 8,
   "metadata": {},
   "outputs": [
    {
     "data": {
      "text/plain": [
       "{'won': 500, 'phone': 1, 'candy': 5, 'gun': 3}"
      ]
     },
     "execution_count": 8,
     "metadata": {},
     "output_type": "execute_result"
    }
   ],
   "source": [
    "# in_my_pocket 함수를 통해 내 주머니에 내용을 추가해봅시다.\n",
    "in_my_pocket(my_name, my_pocket, 'gun',1)"
   ]
  },
  {
   "cell_type": "code",
   "execution_count": 11,
   "metadata": {},
   "outputs": [
    {
     "name": "stdout",
     "output_type": "stream",
     "text": [
      "안녕, 나는 hwang이야. 내 번호는 01027777777이야\n"
     ]
    }
   ],
   "source": [
    "# greeting 함수를 통해 인사를 해봅시다.\n",
    "greeting(my_name, my_phone)"
   ]
  },
  {
   "cell_type": "markdown",
   "metadata": {},
   "source": [
    "# 클래스 및 인스턴스"
   ]
  },
  {
   "cell_type": "markdown",
   "metadata": {},
   "source": [
    "## 클래스 객체\n",
    "\n",
    "```python\n",
    "class ClassName:\n",
    "    \n",
    "```\n",
    "\n",
    "* 선언과 동시에 클래스 객체가 생성됨.\n",
    "\n",
    "* 또한, 선언된 공간은 지역 스코프로 사용된다.\n",
    "\n",
    "* 정의된 어트리뷰트 중 변수는 멤버 변수로 불리운다.\n",
    "\n",
    "* 정의된 함수(`def`)는 메서드로 불리운다."
   ]
  },
  {
   "cell_type": "code",
   "execution_count": 1,
   "metadata": {},
   "outputs": [],
   "source": [
    "class Person: \n",
    "    name = '홍길동'  #name이라고 선언함. class 내에서만 적용 됨. (지역 스코프로 사용됨)\n",
    "    def greeting(self): #함수는 객체가 행위를 표현 하는 방식으로 쓰임 (메소드). \n",
    "        print(f'Hello, My name is {self.name}.')"
   ]
  },
  {
   "cell_type": "markdown",
   "metadata": {},
   "source": [
    "* 선언시 self는 반드시 작성해주세요! 나중에 설명드립니다."
   ]
  },
  {
   "cell_type": "markdown",
   "metadata": {},
   "source": [
    "## 인스턴스 객체\n",
    "\n",
    "* 인스턴스 객체는 `ClassName()`을 호출함으로써 선언된다.\n",
    "\n",
    "* 인스턴스 객체와 클래스 객체는 서로 다른 이름 공간을 가지고 있다.\n",
    "\n",
    "* 인스턴스 -> 클래스 -> 전역 순으로 탐색을 한다."
   ]
  },
  {
   "cell_type": "code",
   "execution_count": 65,
   "metadata": {},
   "outputs": [],
   "source": [
    "# iu라는 클래스 Person의 인스턴스를 만들어봅시다. \n",
    "iu = Person()"
   ]
  },
  {
   "cell_type": "code",
   "execution_count": 66,
   "metadata": {},
   "outputs": [
    {
     "name": "stdout",
     "output_type": "stream",
     "text": [
      "안녕, 나는 홍길동이야. 내 번호는 01012341234이야\n"
     ]
    }
   ],
   "source": [
    "# 인사하는 메서드를 호출해봅시다.\n",
    "iu.greeting()"
   ]
  },
  {
   "cell_type": "code",
   "execution_count": 67,
   "metadata": {
    "scrolled": true
   },
   "outputs": [
    {
     "data": {
      "text/plain": [
       "'홍길동'"
      ]
     },
     "execution_count": 67,
     "metadata": {},
     "output_type": "execute_result"
    }
   ],
   "source": [
    "# iu의 이름을 확인해봅시다.\n",
    "iu.name"
   ]
  },
  {
   "cell_type": "code",
   "execution_count": 61,
   "metadata": {},
   "outputs": [
    {
     "name": "stdout",
     "output_type": "stream",
     "text": [
      "아이유\n"
     ]
    }
   ],
   "source": [
    "# iu로 이름을 바꿔주세요.\n",
    "iu.name = '아이유'\n",
    "print(iu.name)"
   ]
  },
  {
   "cell_type": "code",
   "execution_count": 62,
   "metadata": {},
   "outputs": [
    {
     "name": "stdout",
     "output_type": "stream",
     "text": [
      "안녕, 나는 아이유이야. 내 번호는 01012341234이야\n"
     ]
    }
   ],
   "source": [
    "# iu가 인사를 합니다.\n",
    "iu.greeting()"
   ]
  },
  {
   "cell_type": "code",
   "execution_count": 34,
   "metadata": {},
   "outputs": [
    {
     "data": {
      "text/plain": [
       "True"
      ]
     },
     "execution_count": 34,
     "metadata": {},
     "output_type": "execute_result"
    }
   ],
   "source": [
    "# iu와 Person이 같은지 확인해보겠습니다.\n",
    "type(iu) == Person"
   ]
  },
  {
   "cell_type": "code",
   "execution_count": 36,
   "metadata": {},
   "outputs": [
    {
     "data": {
      "text/plain": [
       "True"
      ]
     },
     "execution_count": 36,
     "metadata": {},
     "output_type": "execute_result"
    }
   ],
   "source": [
    "# iu와 Person이 같은지 확인해보겠습니다.\n",
    "isinstance(iu, Person)  #iu가 Person이라는 클래스로부터 생성된 인스턴스인지? 확인해줌"
   ]
  },
  {
   "cell_type": "code",
   "execution_count": 37,
   "metadata": {},
   "outputs": [
    {
     "data": {
      "text/plain": [
       "<__main__.Person at 0x249f000f320>"
      ]
     },
     "execution_count": 37,
     "metadata": {},
     "output_type": "execute_result"
    }
   ],
   "source": [
    "# iu를 출력해봅시다.\n",
    "iu"
   ]
  },
  {
   "cell_type": "code",
   "execution_count": 38,
   "metadata": {},
   "outputs": [
    {
     "name": "stdout",
     "output_type": "stream",
     "text": [
      "<__main__.Person object at 0x00000249F000F320>\n"
     ]
    }
   ],
   "source": [
    "# iu를 출력해봅시다 2.\n",
    "print(iu)"
   ]
  },
  {
   "cell_type": "code",
   "execution_count": 39,
   "metadata": {},
   "outputs": [
    {
     "name": "stdout",
     "output_type": "stream",
     "text": [
      "<map object at 0x00000249F000FAC8>\n"
     ]
    }
   ],
   "source": [
    "# map을 만들어 비교해 봅시다.\n",
    "print(map(int, '123'))"
   ]
  },
  {
   "cell_type": "markdown",
   "metadata": {},
   "source": [
    "## 실습 문제 발전\n",
    "\n",
    "> 지금까지 배운 것을 통해서 Person 클래스를 만들고, 친구와 나를 표현해봅시다.\n",
    ">\n",
    "> 주머니와 정보를 가지고 있고 (멤버 변수)\n",
    "> \n",
    "> 인사(`greeting()`)와 주머니에 내용을 추가(`in_my_pocket()`)할 수 있습니다. (메서드)\n",
    ">\n",
    "> 추가적으로 `get_my_pocket()`으로 지갑에 담긴 정보를 가져와 봅시다."
   ]
  },
  {
   "cell_type": "code",
   "execution_count": 48,
   "metadata": {},
   "outputs": [],
   "source": [
    "# 아래에 코드를 작성해주세요.\n",
    "class Person:\n",
    "    name = '홍길동'  #멤버변수\n",
    "    phone = '01012341234'\n",
    "    pocket = {'won':500, 'phone':1, 'candy':5}\n",
    "    \n",
    "    def greeting(self):   #클래스안에 함수를 쓸때는 반드시 (self)를 써줘야함.\n",
    "        print(f'안녕, 나는 {self.name}이야. 내 번호는 {self.phone}이야')\n",
    "    \n",
    "    def in_my_pocket(self, stuff, count): #stuff, count 등은 파라미터.\n",
    "        if self.pocket.get(stuff):\n",
    "            self.pocket[stuff] += count\n",
    "        else:\n",
    "            self.pocket[stuff] = count\n",
    "        return self.pocket\n",
    "    \n",
    "    def get_my_pocket(self):\n",
    "        return self.pocket"
   ]
  },
  {
   "cell_type": "code",
   "execution_count": 49,
   "metadata": {},
   "outputs": [
    {
     "name": "stdout",
     "output_type": "stream",
     "text": [
      "준우\n"
     ]
    }
   ],
   "source": [
    "# 나를 만들어 봅시다.\n",
    "jw = Person()  #jw는 Person이라는 클래스의 인스턴스임.\n",
    "jw.name ='준우'\n",
    "print(jw.name)"
   ]
  },
  {
   "cell_type": "code",
   "execution_count": 51,
   "metadata": {},
   "outputs": [
    {
     "name": "stdout",
     "output_type": "stream",
     "text": [
      "안녕, 나는 준우이야. 내 번호는 01012341234이야\n",
      "{'won': 500, 'phone': 1, 'candy': 5, 'gun': 2}\n",
      "{'won': 500, 'phone': 1, 'candy': 5, 'gun': 2}\n"
     ]
    }
   ],
   "source": [
    "# greeting, in_my_pocket, get_my_pocket\n",
    "jw.greeting()\n",
    "print(jw.in_my_pocket('gun',1))\n",
    "print(jw.get_my_pocket())"
   ]
  },
  {
   "cell_type": "code",
   "execution_count": 53,
   "metadata": {},
   "outputs": [
    {
     "name": "stdout",
     "output_type": "stream",
     "text": [
      "안녕, 나는 준우이야. 내 번호는 01012341234이야\n",
      "{'won': 500, 'phone': 1, 'candy': 5, 'gun': 4}\n",
      "{'won': 500, 'phone': 1, 'candy': 5, 'gun': 4}\n"
     ]
    }
   ],
   "source": [
    "jw.greeting()\n",
    "print(jw.in_my_pocket('gun',1))\n",
    "print(jw.pocket)"
   ]
  },
  {
   "cell_type": "code",
   "execution_count": null,
   "metadata": {},
   "outputs": [],
   "source": []
  },
  {
   "cell_type": "code",
   "execution_count": null,
   "metadata": {},
   "outputs": [],
   "source": []
  },
  {
   "cell_type": "code",
   "execution_count": null,
   "metadata": {},
   "outputs": [],
   "source": [
    "실습"
   ]
  },
  {
   "cell_type": "code",
   "execution_count": 9,
   "metadata": {},
   "outputs": [
    {
     "name": "stdout",
     "output_type": "stream",
     "text": [
      "홍길동 20\n",
      "이순신 45\n",
      "강감찬 35\n"
     ]
    }
   ],
   "source": [
    "members = [\n",
    "    {\"name\": \"홍길동\", \"age\": 20},\n",
    "    {\"name\": \"이순신\", \"age\": 45},\n",
    "    {\"name\": \"강감찬\", \"age\": 35},\n",
    "]\n",
    "\n",
    "for member in members:\n",
    "    print(f'{member[\"name\"]} {member[\"age\"]}')"
   ]
  },
  {
   "cell_type": "code",
   "execution_count": 29,
   "metadata": {},
   "outputs": [
    {
     "name": "stdout",
     "output_type": "stream",
     "text": [
      "member는 Person 클래스의 인스턴스 입니다.\n"
     ]
    }
   ],
   "source": [
    "class Person:\n",
    "    pass\n",
    "\n",
    "member = Person() #member 객체 생성 / Persons(): 생성자 메소드\n",
    "\n",
    "if isinstance(member, Person):\n",
    "#첫번째 인자의 객체가 두번째 인자의  클래스 인스턴스인지 검사\n",
    "\tprint(\"member는 Person 클래스의 인스턴스 입니다.\")"
   ]
  },
  {
   "cell_type": "code",
   "execution_count": 8,
   "metadata": {},
   "outputs": [
    {
     "name": "stdout",
     "output_type": "stream",
     "text": [
      "홍길동 20\n",
      "이순신 40\n",
      "강감찬 35\n"
     ]
    }
   ],
   "source": [
    "def create(name, age): #멤버 정보 생성이 필요할때마다 호출하여 사용\n",
    "    return{\"name\":name, \"age\":age}\n",
    "\n",
    "#인자로 전달 받은 딕셔너리 객체의 값을 문자열로 반환하는 함수\n",
    "def to_str(person):\n",
    "    return f'{member[\"name\"]} {member[\"age\"]}'\n",
    "\n",
    "#딕셔너리 객체 3개를 항목으로 가진 members 리스트 객체 생성\n",
    "members = [\n",
    "    create(\"홍길동\", 20),\n",
    "    create(\"이순신\", 40),\n",
    "    create(\"강감찬\", 35)\n",
    "]\n",
    "\n",
    "for member in members:\n",
    "    print(to_str(members))"
   ]
  },
  {
   "cell_type": "code",
   "execution_count": 11,
   "metadata": {},
   "outputs": [
    {
     "name": "stdout",
     "output_type": "stream",
     "text": [
      "member는 Person 클래스의 인스턴스 입니다.\n"
     ]
    }
   ],
   "source": [
    "class Person:\n",
    "    pass\n",
    "\n",
    "member = Person() #member 객체 생성 / Persons(): 생성자 메소드\n",
    "\n",
    "if isinstance(member, Person):\n",
    "#첫번째 인자의 객체가 두번째 인자의  클래스 인스턴스인지 검사\n",
    "\tprint(\"member는 Person 클래스의 인스턴스 입니다.\")"
   ]
  },
  {
   "cell_type": "code",
   "execution_count": 16,
   "metadata": {},
   "outputs": [
    {
     "name": "stdout",
     "output_type": "stream",
     "text": [
      "홍길동 객체가 생성되었습니다.\n",
      "홍길동 객체가 제거되었습니다.\n",
      "홍길동 20\n",
      "['__class__', '__del__', '__delattr__', '__dict__', '__dir__', '__doc__', '__eq__', '__format__', '__ge__', '__getattribute__', '__gt__', '__hash__', '__init__', '__init_subclass__', '__le__', '__lt__', '__module__', '__ne__', '__new__', '__reduce__', '__reduce_ex__', '__repr__', '__setattr__', '__sizeof__', '__str__', '__subclasshook__', '__weakref__', 'age', 'name']\n"
     ]
    }
   ],
   "source": [
    "class Person:\n",
    "    def __init__(self, name, age): #self가 가리키는 객체 공간에 name, age 필드 생성\n",
    "        self.name = name\n",
    "        self.age = age\n",
    "        print(f'{self.name} 객체가 생성되었습니다.')\n",
    "    \n",
    "    def __del__(self):\n",
    "        print(f'{self.name} 객체가 제거되었습니다.')\n",
    "        \n",
    "member = Person(\"홍길동\",20)\n",
    "print(f'{member.name} {member.age}')\n",
    "print(dir(member))"
   ]
  },
  {
   "cell_type": "code",
   "execution_count": 5,
   "metadata": {},
   "outputs": [
    {
     "name": "stdout",
     "output_type": "stream",
     "text": [
      "홍길동 객체가 생성되었습니다.\n",
      "이순신 객체가 생성되었습니다.\n",
      "강감찬 객체가 생성되었습니다.\n",
      "이순신 객체가 제거되었습니다.\n",
      "홍길동 객체가 제거되었습니다.\n",
      "강감찬 객체가 제거되었습니다.\n",
      "홍길동 20\n",
      "이순신 40\n",
      "강감찬 35\n"
     ]
    }
   ],
   "source": [
    "class Person:\n",
    "    def __init__(self, name, age): #self가 가리키는 객체 공간에 name, age 필드 생성\n",
    "        self.name = name\n",
    "        self.age = age\n",
    "        print(f'{self.name} 객체가 생성되었습니다.')\n",
    "    \n",
    "    def __del__(self):\n",
    "        print(f'{self.name} 객체가 제거되었습니다.')\n",
    "        \n",
    "    def to_str(self): #인스턴스 메소드\n",
    "        return f'{member.name} {member.age}'\n",
    "\n",
    "#Person 클래스의 객체 세 개를 항목으로 가진 members 리스트 객체 생성\n",
    "members = [\n",
    "    Person(\"홍길동\", 20),\n",
    "    Person(\"이순신\", 40),\n",
    "    Person(\"강감찬\", 35)\n",
    "]\n",
    "\n",
    "for member in members:\n",
    "    print(member.to_str())"
   ]
  },
  {
   "cell_type": "code",
   "execution_count": 46,
   "metadata": {},
   "outputs": [
    {
     "name": "stdout",
     "output_type": "stream",
     "text": [
      "홍길동 객체가 생성되었습니다.\n",
      "이순신 객체가 생성되었습니다.\n",
      "강감찬 객체가 생성되었습니다.\n",
      "이순신 객체가 제거되었습니다.\n",
      "홍길동 객체가 제거되었습니다.\n"
     ]
    },
    {
     "ename": "TypeError",
     "evalue": "나이는 0이상의 값만 허용합니다.",
     "output_type": "error",
     "traceback": [
      "\u001b[1;31m---------------------------------------------------------------------------\u001b[0m",
      "\u001b[1;31mTypeError\u001b[0m                                 Traceback (most recent call last)",
      "\u001b[1;32m<ipython-input-46-65182102badd>\u001b[0m in \u001b[0;36m<module>\u001b[1;34m\u001b[0m\n\u001b[0;32m     28\u001b[0m ]\n\u001b[0;32m     29\u001b[0m \u001b[1;33m\u001b[0m\u001b[0m\n\u001b[1;32m---> 30\u001b[1;33m \u001b[0mmembers\u001b[0m\u001b[1;33m[\u001b[0m\u001b[1;36m0\u001b[0m\u001b[1;33m]\u001b[0m\u001b[1;33m.\u001b[0m\u001b[0mset_age\u001b[0m\u001b[1;33m(\u001b[0m\u001b[1;33m-\u001b[0m\u001b[1;36m20\u001b[0m\u001b[1;33m)\u001b[0m\u001b[1;33m\u001b[0m\u001b[1;33m\u001b[0m\u001b[0m\n\u001b[0m\u001b[0;32m     31\u001b[0m \u001b[1;33m\u001b[0m\u001b[0m\n\u001b[0;32m     32\u001b[0m \u001b[1;32mfor\u001b[0m \u001b[0mmember\u001b[0m \u001b[1;32min\u001b[0m \u001b[0mmembers\u001b[0m\u001b[1;33m:\u001b[0m\u001b[1;33m\u001b[0m\u001b[1;33m\u001b[0m\u001b[0m\n",
      "\u001b[1;32m<ipython-input-46-65182102badd>\u001b[0m in \u001b[0;36mset_age\u001b[1;34m(self, age)\u001b[0m\n\u001b[0;32m     19\u001b[0m     \u001b[1;32mdef\u001b[0m \u001b[0mset_age\u001b[0m\u001b[1;33m(\u001b[0m\u001b[0mself\u001b[0m\u001b[1;33m,\u001b[0m \u001b[0mage\u001b[0m\u001b[1;33m)\u001b[0m\u001b[1;33m:\u001b[0m \u001b[1;31m#__age 필드의 값을 변경하는 메소드\u001b[0m\u001b[1;33m\u001b[0m\u001b[1;33m\u001b[0m\u001b[0m\n\u001b[0;32m     20\u001b[0m         \u001b[1;32mif\u001b[0m \u001b[0mage\u001b[0m \u001b[1;33m<\u001b[0m \u001b[1;36m0\u001b[0m\u001b[1;33m:\u001b[0m\u001b[1;33m\u001b[0m\u001b[1;33m\u001b[0m\u001b[0m\n\u001b[1;32m---> 21\u001b[1;33m             \u001b[1;32mraise\u001b[0m \u001b[0mTypeError\u001b[0m\u001b[1;33m(\u001b[0m\u001b[1;34m\"나이는 0이상의 값만 허용합니다.\"\u001b[0m\u001b[1;33m)\u001b[0m\u001b[1;33m\u001b[0m\u001b[1;33m\u001b[0m\u001b[0m\n\u001b[0m\u001b[0;32m     22\u001b[0m         \u001b[0mself\u001b[0m\u001b[1;33m.\u001b[0m\u001b[0m__age\u001b[0m \u001b[1;33m=\u001b[0m \u001b[0mage\u001b[0m\u001b[1;33m\u001b[0m\u001b[1;33m\u001b[0m\u001b[0m\n\u001b[0;32m     23\u001b[0m \u001b[1;33m\u001b[0m\u001b[0m\n",
      "\u001b[1;31mTypeError\u001b[0m: 나이는 0이상의 값만 허용합니다."
     ]
    }
   ],
   "source": [
    "class Person:\n",
    "    def __init__(self, name, age): \n",
    "        self.__name = name #프라이빗 필드 생성\n",
    "        self.__age = age\n",
    "        print(f'{self.__name} 객체가 생성되었습니다.')\n",
    "    \n",
    "    def __del__(self):\n",
    "        print(f'{self.__name} 객체가 제거되었습니다.')\n",
    "        \n",
    "    def to_str(self): \n",
    "        return f'{member.__name} {member.__age}'\n",
    "    \n",
    "    def get_name(self): #__name 필드의 값을 반환하는 getter 메소드\n",
    "        return self.__name #__name 필드에 대해서는 getter 메소드만 제공하겠다는 의미\n",
    "    \n",
    "    def get_age(self): #__age 필드의 값을 반환하는 메소드\n",
    "        return self.__age\n",
    "    \n",
    "    def set_age(self, age): #__age 필드의 값을 변경하는 메소드\n",
    "        if age < 0:\n",
    "            raise TypeError(\"나이는 0이상의 값만 허용합니다.\")\n",
    "        self.__age = age\n",
    "\n",
    "members = [\n",
    "    Person(\"홍길동\", 20),\n",
    "    Person(\"이순신\", 40),\n",
    "    Person(\"강감찬\", 35)\n",
    "]\n",
    "\n",
    "members[0].set_age(-20)\n",
    "\n",
    "for member in members:\n",
    "    print(member.to_str())"
   ]
  },
  {
   "cell_type": "code",
   "execution_count": null,
   "metadata": {},
   "outputs": [],
   "source": [
    "데코레이터\n"
   ]
  },
  {
   "cell_type": "code",
   "execution_count": 47,
   "metadata": {},
   "outputs": [
    {
     "name": "stdout",
     "output_type": "stream",
     "text": [
      "홍길동 객체가 생성되었습니다.\n",
      "이순신 객체가 생성되었습니다.\n",
      "강감찬 객체가 생성되었습니다.\n",
      "강감찬 객체가 제거되었습니다.\n",
      "이순신 객체가 제거되었습니다.\n",
      "강감찬 객체가 제거되었습니다.\n",
      "홍길동 22\n",
      "이순신 40\n",
      "강감찬 35\n"
     ]
    }
   ],
   "source": [
    "class Person:\n",
    "    def __init__(self, name, age): \n",
    "        self.__name = name #프라이빗 필드 생성\n",
    "        self.__age = age\n",
    "        print(f'{self.__name} 객체가 생성되었습니다.')\n",
    "    \n",
    "    def __del__(self):\n",
    "        print(f'{self.__name} 객체가 제거되었습니다.')\n",
    "        \n",
    "    def to_str(self): \n",
    "        return f'{member.name} {member.age}'\n",
    "    \n",
    "    @property #at property decorator\n",
    "    def name(self): #변수처럼 사용 가능\n",
    "        return self.__name #__name 필드값을 반환하는 getter메소드의 역할\n",
    "    \n",
    "    @property\n",
    "    def age(self):\n",
    "        return self.__age #__age 필드값을 반환하는 getter메소드의 역할\n",
    "    \n",
    "    @age.setter\n",
    "    def age(self, age):\n",
    "        if age < 0:\n",
    "            raise TypeError(\"나이는 0이상의 값만 허용합니다.\")\n",
    "        self.__age = age            \n",
    "\n",
    "members = [\n",
    "    Person(\"홍길동\", 20),\n",
    "    Person(\"이순신\", 40),\n",
    "    Person(\"강감찬\", 35)\n",
    "]\n",
    "\n",
    "members[0].age = 22 #age @property 데코레이터를 이용해 변수처럼 값 저장\n",
    "\n",
    "for member in members:\n",
    "    print(member.to_str())"
   ]
  },
  {
   "cell_type": "code",
   "execution_count": null,
   "metadata": {},
   "outputs": [],
   "source": [
    "클래스 변수"
   ]
  },
  {
   "cell_type": "code",
   "execution_count": 43,
   "metadata": {},
   "outputs": [
    {
     "name": "stdout",
     "output_type": "stream",
     "text": [
      "홍길동 객체가 생성되었습니다.\n",
      "이순신 객체가 생성되었습니다.\n",
      "강감찬 객체가 생성되었습니다.\n",
      "현재 Person 클래스의 인스턴스는 총3 개 입니다\n"
     ]
    }
   ],
   "source": [
    "class Person:\n",
    "    count = 0\n",
    "    \n",
    "    def __init__(self, name, age): #객체가 생성될 때마다 호출되는 __init__메소드\n",
    "        self.__name = name \n",
    "        self.__age = age\n",
    "        Person.count += 1\n",
    "        print(f'{self.__name} 객체가 생성되었습니다.')\n",
    "    \n",
    "    def __del__(self):\n",
    "        print(f'{self.__name} 객체가 제거되었습니다.')\n",
    "        \n",
    "    def to_str(self): \n",
    "        return f'{member.__name} {member.__age}'\n",
    "    \n",
    "    @property \n",
    "    def name(self): \n",
    "        return self.__name \n",
    "    \n",
    "    @property\n",
    "    def age(self):\n",
    "        return self.__age \n",
    "    \n",
    "    @age.setter\n",
    "    def age(self, age):\n",
    "        if age < 0:\n",
    "            raise TypeError(\"나이는 0이상의 값만 허용합니다.\")\n",
    "        self.__age = age            \n",
    "    \n",
    "people = [\n",
    "    Person(\"홍길동\", 20),\n",
    "    Person(\"이순신\", 40),\n",
    "    Person(\"강감찬\", 35)\n",
    "]\n",
    "\n",
    "print(f'현재 Person 클래스의 인스턴스는 총{Person.count} 개 입니다')"
   ]
  },
  {
   "cell_type": "code",
   "execution_count": null,
   "metadata": {},
   "outputs": [],
   "source": [
    "클래스 메소드"
   ]
  },
  {
   "cell_type": "code",
   "execution_count": 27,
   "metadata": {},
   "outputs": [
    {
     "name": "stdout",
     "output_type": "stream",
     "text": [
      "홍길동 객체가 제거되었습니다.\n",
      "홍길동 객체가 생성되었습니다.\n",
      "이순신 객체가 생성되었습니다.\n",
      "강감찬 객체가 생성되었습니다.\n",
      "이순신 객체가 제거되었습니다.\n",
      "홍길동 객체가 제거되었습니다.\n",
      "현재 Person 클래스의 인스턴스는 총 3개 입니다\n"
     ]
    },
    {
     "name": "stderr",
     "output_type": "stream",
     "text": [
      "Exception ignored in: <bound method Person.__del__ of <__main__.Person object at 0x04104F10>>\n",
      "Traceback (most recent call last):\n",
      "  File \"<ipython-input-21-69e2ddc7d68d>\", line 8, in __del__\n",
      "AttributeError: 'Person' object has no attribute 'name'\n"
     ]
    }
   ],
   "source": [
    "class Person:\n",
    "    count = 0\n",
    "    \n",
    "    def __init__(self, name, age): #객체가 생성될 때마다 호출되는 __init__메소드\n",
    "        self.__name = name \n",
    "        self.__age = age\n",
    "        Person.count += 1\n",
    "        print(f'{self.__name} 객체가 생성되었습니다.')\n",
    "    \n",
    "    def __del__(self):\n",
    "        print(f'{self.__name} 객체가 제거되었습니다.')\n",
    "        \n",
    "    def to_str(self): \n",
    "        return f'{member.name} {member.age}'\n",
    "    \n",
    "    @property \n",
    "    def name(self): \n",
    "        return self.__name \n",
    "    \n",
    "    @property\n",
    "    def age(self):\n",
    "        return self.__age \n",
    "    \n",
    "    @age.setter\n",
    "    def age(self, age):\n",
    "        if age < 0:\n",
    "            raise TypeError(\"나이는 0이상의 값만 허용합니다.\")\n",
    "        self.__age = age            \n",
    "    \n",
    "    @classmethod\n",
    "    def get_info(cls): #클래스 참조 정보가 인자로 넘어올 매개변수\n",
    "        return f'현재 Person 클래스의 인스턴스는 총 {cls.count}개 입니다'\n",
    "    \n",
    "members = [\n",
    "    Person(\"홍길동\", 20),\n",
    "    Person(\"이순신\", 40),\n",
    "    Person(\"강감찬\", 35)\n",
    "]\n",
    "\n",
    "print(Person.get_info()) #Person class 통해 호출"
   ]
  },
  {
   "cell_type": "code",
   "execution_count": 6,
   "metadata": {},
   "outputs": [],
   "source": [
    "class Person:\n",
    "    name = '홍길동'\n",
    "    def greeting(self):\n",
    "        print(f'{self.name}입니다')"
   ]
  },
  {
   "cell_type": "code",
   "execution_count": null,
   "metadata": {},
   "outputs": [],
   "source": []
  },
  {
   "cell_type": "code",
   "execution_count": 50,
   "metadata": {},
   "outputs": [],
   "source": [
    "## 실습"
   ]
  },
  {
   "cell_type": "code",
   "execution_count": 8,
   "metadata": {},
   "outputs": [],
   "source": [
    "iu = Person()"
   ]
  },
  {
   "cell_type": "code",
   "execution_count": 12,
   "metadata": {},
   "outputs": [
    {
     "name": "stdout",
     "output_type": "stream",
     "text": [
      "홍길동입니다\n"
     ]
    },
    {
     "data": {
      "text/plain": [
       "'홍길동'"
      ]
     },
     "execution_count": 12,
     "metadata": {},
     "output_type": "execute_result"
    }
   ],
   "source": [
    "iu.greeting()\n",
    "iu.name"
   ]
  },
  {
   "cell_type": "code",
   "execution_count": 25,
   "metadata": {},
   "outputs": [],
   "source": [
    "class Person:\n",
    "    def __init__(self, name, age):\n",
    "        self.name = name\n",
    "        self.age = age\n",
    "        print(f'{self.name} 객체가 생성되었습니다')\n",
    "    \n"
   ]
  },
  {
   "cell_type": "code",
   "execution_count": 17,
   "metadata": {},
   "outputs": [
    {
     "name": "stdout",
     "output_type": "stream",
     "text": [
      "홍길동 객체가 생성되었습니다\n"
     ]
    }
   ],
   "source": [
    "member1 = Person('홍길동',20)"
   ]
  },
  {
   "cell_type": "code",
   "execution_count": 21,
   "metadata": {},
   "outputs": [
    {
     "data": {
      "text/plain": [
       "'홍길동'"
      ]
     },
     "execution_count": 21,
     "metadata": {},
     "output_type": "execute_result"
    }
   ],
   "source": [
    "member1.name"
   ]
  },
  {
   "cell_type": "code",
   "execution_count": 22,
   "metadata": {},
   "outputs": [
    {
     "data": {
      "text/plain": [
       "20"
      ]
     },
     "execution_count": 22,
     "metadata": {},
     "output_type": "execute_result"
    }
   ],
   "source": [
    "member1.age"
   ]
  },
  {
   "cell_type": "code",
   "execution_count": 30,
   "metadata": {},
   "outputs": [
    {
     "name": "stdout",
     "output_type": "stream",
     "text": [
      "홍길동 객체가 생성되었습니다\n",
      "이순신 객체가 생성되었습니다\n",
      "강감찬 객체가 생성되었습니다\n",
      "20\n",
      "40\n",
      "35\n"
     ]
    }
   ],
   "source": [
    "members = [\n",
    "    Person(\"홍길동\", 20),\n",
    "    Person(\"이순신\", 40),\n",
    "    Person(\"강감찬\", 35),\n",
    "]\n",
    "\n",
    "for i in members:\n",
    "    print(i.age)"
   ]
  },
  {
   "cell_type": "code",
   "execution_count": null,
   "metadata": {},
   "outputs": [],
   "source": []
  },
  {
   "cell_type": "code",
   "execution_count": 52,
   "metadata": {},
   "outputs": [
    {
     "name": "stdout",
     "output_type": "stream",
     "text": [
      "홍길동 객체가 생성되었습니다.\n",
      "이순신 객체가 생성되었습니다.\n",
      "강감찬 객체가 생성되었습니다.\n",
      "이순신 객체가 제거되었습니다.\n",
      "홍길동 객체가 제거되었습니다.\n",
      "members[0] > members[1] => False\n",
      "members[1] > members[2] => True\n",
      "members[2] > members[0] => True\n"
     ]
    }
   ],
   "source": [
    "class Person:\n",
    "    count = 0\n",
    "    \n",
    "    def __init__(self, name, age): #객체가 생성될 때마다 호출되는 __init__메소드\n",
    "        self.__name = name \n",
    "        self.__age = age\n",
    "        Person.count += 1\n",
    "        print(f'{self.__name} 객체가 생성되었습니다.')\n",
    "    \n",
    "    def __del__(self):\n",
    "        print(f'{self.__name} 객체가 제거되었습니다.')\n",
    "        \n",
    "    def to_str(self): \n",
    "        return f'{member.name} {member.age}'\n",
    "    \n",
    "    @property \n",
    "    def name(self): \n",
    "        return self.__name \n",
    "    \n",
    "    @property\n",
    "    def age(self):\n",
    "        return self.__age \n",
    "    \n",
    "    @age.setter\n",
    "    def age(self, age):\n",
    "        if age < 0:\n",
    "            raise TypeError(\"나이는 0이상의 값만 허용합니다.\")\n",
    "        self.__age = age            \n",
    "    \n",
    "    @classmethod\n",
    "    def get_info(cls): #클래스 참조 정보가 인자로 넘어올 매개변수\n",
    "        return f'현재 Person 클래스의 인스턴스는 총 {cls.count}개 입니다'\n",
    "    \n",
    "    def __gt__(self,other):\n",
    "        return self.__age > other.__age \n",
    "    #self의 __age 필드가 other객체의 __age필드보다 크면 true반환\n",
    "\n",
    "    def __ge__(self,other):\n",
    "        return self.__age >= other.__age \n",
    "    #self의 __age 필드가 other객체의 __age필드보다 크거나 같으면 true반환\n",
    "    \n",
    "    def __it__(self,other):\n",
    "        return self.__age < other.__age \n",
    "    #self의 __age 필드가 other객체의 __age필드보다 작으면 true반환\n",
    "\n",
    "    def __le__(self,other):\n",
    "        return self.__age <= other.__age \n",
    "    #self의 __age 필드가 other객체의 __age필드보다 작거나 같으면 true반환\n",
    "\n",
    "    def __eq__(self,other):\n",
    "        return self.__age == other.__age \n",
    "    #self의 __age 필드가 other객체의 __age필드와 같으면 true반환\n",
    "\n",
    "    def __ne__(self,other):\n",
    "        return self.__age != other.__age \n",
    "    #self의 __age 필드가 other객체의 __age필드와 다르면 true반환\n",
    "\n",
    "members = [\n",
    "    Person(\"홍길동\", 20),\n",
    "    Person(\"이순신\", 40),\n",
    "    Person(\"강감찬\", 35),\n",
    "]\n",
    "\n",
    "cnt = len(members)\n",
    "i = 0\n",
    "while True:\n",
    "    print(\"members[{0}] > members[{1}] => {2}\".format(i, i+1, members[i] > members[i+1]))\n",
    "    i += 1\n",
    "    if i == cnt -1:\n",
    "        print(\"members[{0}] > members[{1}] => {2}\".format(i, 0, members[i] > members[0]))\n",
    "        break"
   ]
  },
  {
   "cell_type": "code",
   "execution_count": 59,
   "metadata": {},
   "outputs": [],
   "source": [
    "class Person:\n",
    "    def __init__(self, name):\n",
    "        self.name = name\n",
    "\n",
    "    def greeting(self):\n",
    "        print(f'{self.name}입니다.')"
   ]
  },
  {
   "cell_type": "code",
   "execution_count": 60,
   "metadata": {},
   "outputs": [],
   "source": [
    "class Student(Person):\n",
    "    def __init__(self, name, student_id):\n",
    "        self.name = name\n",
    "        self.student_id = student_id"
   ]
  },
  {
   "cell_type": "code",
   "execution_count": 61,
   "metadata": {},
   "outputs": [],
   "source": [
    "s1 = Student('준우', '123123')"
   ]
  },
  {
   "cell_type": "code",
   "execution_count": 64,
   "metadata": {},
   "outputs": [
    {
     "name": "stdout",
     "output_type": "stream",
     "text": [
      "준우입니다.\n"
     ]
    },
    {
     "data": {
      "text/plain": [
       "'123123'"
      ]
     },
     "execution_count": 64,
     "metadata": {},
     "output_type": "execute_result"
    }
   ],
   "source": [
    "s1.greeting()\n",
    "s1.student_id"
   ]
  },
  {
   "cell_type": "code",
   "execution_count": 65,
   "metadata": {},
   "outputs": [
    {
     "name": "stdout",
     "output_type": "stream",
     "text": [
      "Dog has four legs.\n",
      "Dog is a warm-blooded animal.\n"
     ]
    }
   ],
   "source": [
    "class Mammal(object):\n",
    "  def __init__(self, mammalName):\n",
    "    print(mammalName, 'is a warm-blooded animal.')\n",
    "    \n",
    "class Dog(Mammal):\n",
    "  def __init__(self):\n",
    "    print('Dog has four legs.')\n",
    "    super().__init__('Dog')\n",
    "    \n",
    "d1 = Dog()"
   ]
  },
  {
   "cell_type": "code",
   "execution_count": null,
   "metadata": {},
   "outputs": [],
   "source": [
    "인강 예제"
   ]
  },
  {
   "cell_type": "code",
   "execution_count": 77,
   "metadata": {},
   "outputs": [
    {
     "name": "stdout",
     "output_type": "stream",
     "text": [
      "Student(name: 홍길동,gender: 남, height: 176.5)\n"
     ]
    }
   ],
   "source": [
    "class Student:\n",
    "    def __init__(self, name, gender, height):\n",
    "        self.__name = name\n",
    "        self.__gender = gender\n",
    "        self.__height = height\n",
    "    \n",
    "    @property\n",
    "    def name(self):\n",
    "        return self.__name\n",
    "    \n",
    "    @property\n",
    "    def gender(self):\n",
    "        return self.__gender\n",
    "    \n",
    "    @property\n",
    "    def height(self):\n",
    "        return self.__height\n",
    "    \n",
    "    @height.setter\n",
    "    def height(self, height):\n",
    "        self.__height = height\n",
    "    \n",
    "    #repr 함수: 객체 출력시 주로 사용\n",
    "    def __repr__(self):\n",
    "        return  f'{self.__class__.__name__}(name: {self.name},gender: {self.gender}, height: {self.height})'\n",
    "    \n",
    "s1 = Student(\"홍길동\",\"남\", 176.5)\n",
    "print(s1)\n"
   ]
  },
  {
   "cell_type": "code",
   "execution_count": 81,
   "metadata": {},
   "outputs": [
    {
     "name": "stdout",
     "output_type": "stream",
     "text": [
      "Student(name: 홍길동,gender: 남, height: 176.5)\n",
      "Student(name: 이순신,gender: 남, height: 188.5)\n",
      "Student(name: 유관순,gender: 여, height: 158.5)\n",
      "Student(name: 강감찬,gender: 남, height: 182.2)\n",
      "name을 오름차순으로 정렬 후 ===>\n",
      "Student(name: 강감찬,gender: 남, height: 182.2)\n",
      "Student(name: 유관순,gender: 여, height: 158.5)\n",
      "Student(name: 이순신,gender: 남, height: 188.5)\n",
      "Student(name: 홍길동,gender: 남, height: 176.5)\n",
      "name을 내림차순으로 정렬 후 ===>\n",
      "Student(name: 홍길동,gender: 남, height: 176.5)\n",
      "Student(name: 이순신,gender: 남, height: 188.5)\n",
      "Student(name: 유관순,gender: 여, height: 158.5)\n",
      "Student(name: 강감찬,gender: 남, height: 182.2)\n"
     ]
    }
   ],
   "source": [
    "class Student:\n",
    "    def __init__(self, name, gender, height):\n",
    "        self.__name = name\n",
    "        self.__gender = gender\n",
    "        self.__height = height\n",
    "    \n",
    "    @property\n",
    "    def name(self):\n",
    "        return self.__name\n",
    "    \n",
    "    @property\n",
    "    def gender(self):\n",
    "        return self.__gender\n",
    "    \n",
    "    @property\n",
    "    def height(self):\n",
    "        return self.__height\n",
    "    \n",
    "    @height.setter\n",
    "    def height(self, height):\n",
    "        self.__height = height\n",
    "    \n",
    "    #repr 함수: 객체 출력시 주로 사용\n",
    "    def __repr__(self):\n",
    "        return  f'{self.__class__.__name__}(name: {self.name},gender: {self.gender}, height: {self.height})'\n",
    "    \n",
    "\n",
    "students = [\n",
    "    Student(\"홍길동\", \"남\", 176.5),\n",
    "    Student(\"이순신\", \"남\", 188.5),\n",
    "    Student(\"유관순\", \"여\", 158.5),\n",
    "    Student(\"강감찬\", \"남\", 182.2)\n",
    "]\n",
    "\n",
    "for student in students:\n",
    "    print(student)\n",
    "    \n",
    "print(\"name을 오름차순으로 정렬 후 ===>\")\n",
    "for student in sorted(students, key=lambda x: x.name):\n",
    "    print(student)\n",
    "\n",
    "print(\"name을 내림차순으로 정렬 후 ===>\")\n",
    "for student in sorted(students, key=lambda x: x.name, reverse = True):\n",
    "    print(student)"
   ]
  },
  {
   "cell_type": "code",
   "execution_count": 82,
   "metadata": {},
   "outputs": [
    {
     "ename": "SyntaxError",
     "evalue": "invalid syntax (<ipython-input-82-b7727434c7ff>, line 3)",
     "output_type": "error",
     "traceback": [
      "\u001b[1;36m  File \u001b[1;32m\"<ipython-input-82-b7727434c7ff>\"\u001b[1;36m, line \u001b[1;32m3\u001b[0m\n\u001b[1;33m    print \"executing foo(%s,%s)\"%(self,x)\u001b[0m\n\u001b[1;37m                               ^\u001b[0m\n\u001b[1;31mSyntaxError\u001b[0m\u001b[1;31m:\u001b[0m invalid syntax\n"
     ]
    }
   ],
   "source": []
  },
  {
   "cell_type": "code",
   "execution_count": null,
   "metadata": {},
   "outputs": [],
   "source": []
  }
 ],
 "metadata": {
  "kernelspec": {
   "display_name": "Python 3",
   "language": "python",
   "name": "python3"
  },
  "language_info": {
   "codemirror_mode": {
    "name": "ipython",
    "version": 3
   },
   "file_extension": ".py",
   "mimetype": "text/x-python",
   "name": "python",
   "nbconvert_exporter": "python",
   "pygments_lexer": "ipython3",
   "version": "3.7.2"
  },
  "latex_envs": {
   "LaTeX_envs_menu_present": true,
   "autoclose": false,
   "autocomplete": true,
   "bibliofile": "biblio.bib",
   "cite_by": "apalike",
   "current_citInitial": 1,
   "eqLabelWithNumbers": true,
   "eqNumInitial": 1,
   "hotkeys": {
    "equation": "Ctrl-E",
    "itemize": "Ctrl-I"
   },
   "labels_anchors": false,
   "latex_user_defs": false,
   "report_style_numbering": false,
   "user_envs_cfg": false
  },
  "toc": {
   "base_numbering": 1,
   "nav_menu": {},
   "number_sections": true,
   "sideBar": true,
   "skip_h1_title": false,
   "title_cell": "Table of Contents",
   "title_sidebar": "Contents",
   "toc_cell": false,
   "toc_position": {},
   "toc_section_display": true,
   "toc_window_display": false
  }
 },
 "nbformat": 4,
 "nbformat_minor": 2
}
