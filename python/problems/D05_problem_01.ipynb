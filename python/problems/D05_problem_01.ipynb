{
 "cells": [
  {
   "cell_type": "markdown",
   "metadata": {},
   "source": [
    "# 미들 네임\n",
    "\n",
    "> 영어 이름은 가운데 이름을 가지고 있는 경우가 있습니다.\n",
    ">\n",
    "> 가운데 이름은 축약해서 나타내는 `shorten`함수를 작성해보세요.\n",
    "\n",
    "예시)\n",
    "\n",
    "```python\n",
    "shorten('Alice Betty Catherine Davis') #=> Alice B. C. Davis\n",
    "```"
   ]
  },
  {
   "cell_type": "code",
   "execution_count": 72,
   "metadata": {},
   "outputs": [],
   "source": [
    "# 여기에 코드를 작성하세요.\n",
    "def shorten(name):\n",
    "\n",
    "    name = 'Alice Betty Catherine Davis'\n",
    "    b = name.split()\n",
    "\n",
    "    result = []\n",
    "    for name in b:\n",
    "        if name == b[0] or name== b[-1]:\n",
    "            result.append(name + \" \")\n",
    "        else:\n",
    "            result.append(name[0] + '. ')\n",
    "    join_result = ''.join(result)\n",
    "\n",
    "    return join_result"
   ]
  },
  {
   "cell_type": "code",
   "execution_count": 82,
   "metadata": {},
   "outputs": [
    {
     "name": "stdout",
     "output_type": "stream",
     "text": [
      "['Alice', 'Betty', 'Catherine', 'Davis']\n",
      "['Alice', 'B. ', 'Catherine', 'Davis']\n",
      "['Alice', 'B. ', 'C. ', 'Davis']\n",
      "Alice B.  C.  Davis\n"
     ]
    }
   ],
   "source": [
    "#강사님 풀이 과정\n",
    "def shorten1(name):\n",
    "    name_list = name.split()\n",
    "    print(name_list)\n",
    "    for i in range(1, len(name_list)-1):\n",
    "        name_list[i] = name_list[i][0]+ '. '\n",
    "        print(name_list)\n",
    "    return ' '.join(name_list)\n",
    "\n",
    "print(shorten1('Alice Betty Catherine Davis'))"
   ]
  },
  {
   "cell_type": "code",
   "execution_count": 73,
   "metadata": {},
   "outputs": [
    {
     "name": "stdout",
     "output_type": "stream",
     "text": [
      "Alice B. C. Davis \n"
     ]
    }
   ],
   "source": [
    "# 해당 코드를 통해 올바른 결과가 나오는지 확인하세요.\n",
    "print(shorten('Alice Betty Catherine Davis')) #=> Alice B. C. Davis"
   ]
  },
  {
   "cell_type": "markdown",
   "metadata": {},
   "source": [
    "# 알파벳만 남기고 뒤집기\n",
    "\n",
    "> 문자열이 주어지면, 해당 문자열 중에서 알파벳이 아닌 문자는 전부 빼고 거꾸로 뒤집어 반환하는 함수 `revers_letter`를 작성하세요.\n",
    "\n",
    "예시)\n",
    "\n",
    "```python\n",
    "reverse_letter(\"krishan\") #=> \"nahsirk\"\n",
    "reverse_letter(\"ultr53o?n\") #=> \"nortlu\"\n",
    "reverse_letter('asdf?.,/') #=> \"fdsa\"\n",
    "```"
   ]
  },
  {
   "cell_type": "code",
   "execution_count": 90,
   "metadata": {},
   "outputs": [
    {
     "name": "stdout",
     "output_type": "stream",
     "text": [
      "nahsirk\n",
      "nortlu\n",
      "fdsa\n"
     ]
    }
   ],
   "source": [
    "#반복문 풀이 법\n",
    "def reverse_letter(string):\n",
    "    string = list(string)\n",
    "    string.reverse()\n",
    "\n",
    "    result =\"\"\n",
    "    for i in string:\n",
    "        if i.isalpha():\n",
    "            result += i\n",
    "    return result\n",
    "\n",
    "print(reverse_letter(\"krishan\"))\n",
    "print(reverse_letter(\"ultr53o?n\"))\n",
    "print(reverse_letter('asdf?.,/'))"
   ]
  },
  {
   "cell_type": "code",
   "execution_count": 92,
   "metadata": {},
   "outputs": [
    {
     "name": "stdout",
     "output_type": "stream",
     "text": [
      "nahsirk\n",
      "nortlu\n",
      "fdsa\n"
     ]
    }
   ],
   "source": [
    "# 아스키 코드 사용 풀이법\n",
    "def reverse_letter1(string):\n",
    "    string = list(string)\n",
    "    string.reverse()\n",
    "\n",
    "    result =\"\"\n",
    "    for i in string:\n",
    "        if 65<= ord(i) <90 or 97 <= ord(i) <= 122:\n",
    "            result += i\n",
    "    return result\n",
    "\n",
    "print(reverse_letter1(\"krishan\"))\n",
    "print(reverse_letter1(\"ultr53o?n\"))\n",
    "print(reverse_letter1('asdf?.,/'))"
   ]
  },
  {
   "cell_type": "code",
   "execution_count": 87,
   "metadata": {},
   "outputs": [
    {
     "name": "stdout",
     "output_type": "stream",
     "text": [
      "nahsirk\n",
      "nortlu\n",
      "fdsa\n"
     ]
    }
   ],
   "source": [
    "#강사님 풀이 과정 - 반복문\n",
    "def reverse_letter2(string):\n",
    "    result =''\n",
    "    for char in string:\n",
    "        if char.isalpha():\n",
    "            result += char\n",
    "    return result[::-1] #문자열을 뒤집는 경우, revserse 는 문자열이 적용이 안되므로, 슬라이싱([::-1])을 활용 가능\n",
    "\n",
    "print(reverse_letter2(\"krishan\"))\n",
    "print(reverse_letter2(\"ultr53o?n\"))\n",
    "print(reverse_letter2('asdf?.,/'))"
   ]
  },
  {
   "cell_type": "code",
   "execution_count": 91,
   "metadata": {},
   "outputs": [
    {
     "name": "stdout",
     "output_type": "stream",
     "text": [
      "nahsirk\n",
      "nortlu\n",
      "fdsa\n"
     ]
    }
   ],
   "source": [
    "#강사님 풀이 과정 - list comprehension\n",
    "def reverse_letter3(string):\n",
    "    result = [c for c in string if c.isalpha()]\n",
    "    return ''.join(reversed(result))\n",
    "\n",
    "print(reverse_letter3(\"krishan\"))\n",
    "print(reverse_letter3(\"ultr53o?n\"))\n",
    "print(reverse_letter3('asdf?.,/'))"
   ]
  },
  {
   "cell_type": "markdown",
   "metadata": {},
   "source": [
    "# 숫자가 좋아\n",
    "\n",
    "> 스트링과 함께 섞여있는 문자열들 속에서 정수만 뽑아내 합을 반환하는 함수 `pick_and_sum`를 작성하세요.\n",
    "\n",
    "예시)\n",
    "```python\n",
    "pick_and_sum(\"an8nt12\") #=> 20\n",
    "pick_and_sum(\"The30quick20brown10f0x1203jumps914ov3r1349the102l4zy dog\") #=> 3635\n",
    "```"
   ]
  },
  {
   "cell_type": "code",
   "execution_count": 93,
   "metadata": {},
   "outputs": [
    {
     "name": "stdout",
     "output_type": "stream",
     "text": [
      "20\n",
      "3635\n"
     ]
    }
   ],
   "source": [
    "# 여기에 코드를 작성하세요.\n",
    "def pick_and_sum(s):\n",
    "\n",
    "    for i in s:\n",
    "        if i.isalpha() == True or i.isspace() == True:\n",
    "            s = s.replace(i,'~')\n",
    "    \n",
    "    s = s.split('~')\n",
    "    s_total = 0\n",
    "    for k in s:\n",
    "        if bool(k) == True:#if i: 도 가능\n",
    "            s_total += int(k)\n",
    "\n",
    "    return s_total\n",
    "\n",
    "print(pick_and_sum(\"an8nt12\"))\n",
    "print(pick_and_sum(\"The30quick20brown10f0x1203jumps914ov3r1349the102l4zy dog\"))"
   ]
  },
  {
   "cell_type": "code",
   "execution_count": 99,
   "metadata": {},
   "outputs": [
    {
     "name": "stdout",
     "output_type": "stream",
     "text": [
      "20\n",
      "3635\n"
     ]
    }
   ],
   "source": [
    "# 강사님 풀이 과정\n",
    "def pick_and_sum1(s):\n",
    "    for x in s:\n",
    "        if not x.isdigit():\n",
    "            s = s.replace(x, ' ')\n",
    "    return sum([int(n) for n in s.split()])\n",
    "        \n",
    "print(pick_and_sum1(\"an8nt12\"))\n",
    "print(pick_and_sum1(\"The30quick20brown10f0x1203jumps914ov3r1349the102l4zy dog\"))"
   ]
  }
 ],
 "metadata": {
  "kernelspec": {
   "display_name": "Python 3",
   "language": "python",
   "name": "python3"
  },
  "language_info": {
   "codemirror_mode": {
    "name": "ipython",
    "version": 3
   },
   "file_extension": ".py",
   "mimetype": "text/x-python",
   "name": "python",
   "nbconvert_exporter": "python",
   "pygments_lexer": "ipython3",
   "version": "3.7.1"
  },
  "toc": {
   "base_numbering": 1,
   "nav_menu": {},
   "number_sections": true,
   "sideBar": true,
   "skip_h1_title": false,
   "title_cell": "Table of Contents",
   "title_sidebar": "Contents",
   "toc_cell": false,
   "toc_position": {},
   "toc_section_display": true,
   "toc_window_display": false
  }
 },
 "nbformat": 4,
 "nbformat_minor": 2
}
