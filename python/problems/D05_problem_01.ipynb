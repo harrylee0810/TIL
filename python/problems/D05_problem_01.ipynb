{
 "cells": [
  {
   "cell_type": "markdown",
   "metadata": {},
   "source": [
    "# 미들 네임\n",
    "\n",
    "> 영어 이름은 가운데 이름을 가지고 있는 경우가 있습니다.\n",
    ">\n",
    "> 가운데 이름은 축약해서 나타내는 `shorten`함수를 작성해보세요.\n",
    "\n",
    "예시)\n",
    "\n",
    "```python\n",
    "shorten('Alice Betty Catherine Davis') #=> Alice B. C. Davis\n",
    "```"
   ]
  },
  {
   "cell_type": "code",
   "execution_count": 27,
   "metadata": {},
   "outputs": [],
   "source": [
    "# 여기에 코드를 작성하세요.\n",
    "def shorten(name):\n",
    "\n",
    "    name = 'Alice Betty Catherine Davis'\n",
    "    b = a.split()\n",
    "\n",
    "    result = []\n",
    "    for name in b:\n",
    "        if name == b[0] or name== b[-1]:\n",
    "            result.append(name + \" \")\n",
    "        else:\n",
    "            result.append(name[0] + '. ')\n",
    "    join_result = ''.join(result)\n",
    "\n",
    "    return join_result"
   ]
  },
  {
   "cell_type": "code",
   "execution_count": 28,
   "metadata": {},
   "outputs": [
    {
     "name": "stdout",
     "output_type": "stream",
     "text": [
      "Alice B. C. Davis \n"
     ]
    }
   ],
   "source": [
    "# 해당 코드를 통해 올바른 결과가 나오는지 확인하세요.\n",
    "print(shorten('Alice Betty Catherine Davis')) #=> Alice B. C. Davis"
   ]
  },
  {
   "cell_type": "markdown",
   "metadata": {},
   "source": [
    "# 알파벳만 남기고 뒤집기\n",
    "\n",
    "> 문자열이 주어지면, 해당 문자열 중에서 알파벳이 아닌 문자는 전부 빼고 거꾸로 뒤집어 반환하는 함수 `revers_letter`를 작성하세요.\n",
    "\n",
    "예시)\n",
    "\n",
    "```python\n",
    "reverse_letter(\"krishan\") #=> \"nahsirk\"\n",
    "reverse_letter(\"ultr53o?n\") #=> \"nortlu\"\n",
    "reverse_letter('asdf?.,/') #=> \"fdsa\"\n",
    "```"
   ]
  },
  {
   "cell_type": "code",
   "execution_count": 34,
   "metadata": {},
   "outputs": [
    {
     "name": "stdout",
     "output_type": "stream",
     "text": [
      "['n', '?', 'o', '3', '5', 'r', 't', 'l', 'u']\n",
      "nortlu\n"
     ]
    }
   ],
   "source": [
    "a = \"ultr53o?n\"\n",
    "a = list(a)\n",
    "a.reverse()\n",
    "print(a)\n",
    "\n",
    "result =\"\"\n",
    "for i in a:\n",
    "    if 65<= ord(i) <90 or 97 <= ord(i) <= 122:\n",
    "        result += i\n",
    "    else:\n",
    "        pass\n",
    "print(result)"
   ]
  },
  {
   "cell_type": "code",
   "execution_count": 57,
   "metadata": {},
   "outputs": [
    {
     "name": "stdout",
     "output_type": "stream",
     "text": [
      "nahsirk\n",
      "nortlu\n",
      "fdsa\n"
     ]
    }
   ],
   "source": [
    "def reverse_letter1(string):\n",
    "    string = list(string)\n",
    "    string.reverse()\n",
    "\n",
    "    result =\"\"\n",
    "    for i in string:\n",
    "        if i.isalpha():\n",
    "            result += i\n",
    "        else:\n",
    "            pass\n",
    "    return result\n",
    "\n",
    "print(reverse_letter1(\"krishan\"))\n",
    "print(reverse_letter1(\"ultr53o?n\"))\n",
    "print(reverse_letter1('asdf?.,/'))"
   ]
  },
  {
   "cell_type": "code",
   "execution_count": 36,
   "metadata": {},
   "outputs": [],
   "source": [
    "# 여기에 코드를 작성하세요.\n",
    "def reverse_letter(string):\n",
    "    string = list(string)\n",
    "    string.reverse()\n",
    "\n",
    "    result =\"\"\n",
    "    for i in string:\n",
    "        if 65<= ord(i) <90 or 97 <= ord(i) <= 122:\n",
    "            result += i\n",
    "        else:\n",
    "            pass\n",
    "    return result"
   ]
  },
  {
   "cell_type": "code",
   "execution_count": null,
   "metadata": {},
   "outputs": [],
   "source": []
  },
  {
   "cell_type": "code",
   "execution_count": 37,
   "metadata": {},
   "outputs": [
    {
     "name": "stdout",
     "output_type": "stream",
     "text": [
      "nahsirk\n",
      "nortlu\n",
      "fdsa\n"
     ]
    }
   ],
   "source": [
    "# 해당 코드를 통해 올바른 결과가 나오는지 확인하세요.\n",
    "print(reverse_letter(\"krishan\"))\n",
    "print(reverse_letter(\"ultr53o?n\"))\n",
    "print(reverse_letter('asdf?.,/'))"
   ]
  },
  {
   "cell_type": "markdown",
   "metadata": {},
   "source": [
    "# 숫자가 좋아\n",
    "\n",
    "> 스트링과 함께 섞여있는 문자열들 속에서 정수만 뽑아내 합을 반환하는 함수 `pick_and_sum`를 작성하세요.\n",
    "\n",
    "예시)\n",
    "```python\n",
    "pick_and_sum(\"an8nt12\") #=> 20\n",
    "pick_and_sum(\"The30quick20brown10f0x1203jumps914ov3r1349the102l4zy dog\") #=> 3635\n",
    "```"
   ]
  },
  {
   "cell_type": "code",
   "execution_count": 75,
   "metadata": {},
   "outputs": [
    {
     "name": "stdout",
     "output_type": "stream",
     "text": [
      "[(0, 'a'), (1, 'n'), (2, '8'), (3, 'n'), (4, 't'), (5, '1'), (6, '2')]\n"
     ]
    }
   ],
   "source": [
    "a = \"an8nt12\"\n",
    "\n",
    "result =[]\n",
    "\n",
    "for i in enumerate(a):\n",
    "    result.append(i)\n",
    "print(result)\n",
    "    \n",
    "    \n",
    "#     if i.isdecimal():\n",
    "#         result.append(i)\n",
    "# print(result)"
   ]
  },
  {
   "cell_type": "code",
   "execution_count": null,
   "metadata": {},
   "outputs": [],
   "source": [
    "# 여기에 코드를 작성하세요.\n",
    "def pick_and_sum(s):\n"
   ]
  },
  {
   "cell_type": "code",
   "execution_count": null,
   "metadata": {},
   "outputs": [],
   "source": [
    "# 해당 코드를 통해 올바른 결과가 나오는지 확인하세요.\n",
    "print(pick_and_sum(\"an8nt12\"))\n",
    "print(pick_and_sum(\"The30quick20brown10f0x1203jumps914ov3r1349the102l4zy dog\"))"
   ]
  }
 ],
 "metadata": {
  "kernelspec": {
   "display_name": "Python 3",
   "language": "python",
   "name": "python3"
  },
  "language_info": {
   "codemirror_mode": {
    "name": "ipython",
    "version": 3
   },
   "file_extension": ".py",
   "mimetype": "text/x-python",
   "name": "python",
   "nbconvert_exporter": "python",
   "pygments_lexer": "ipython3",
   "version": "3.7.1"
  },
  "toc": {
   "base_numbering": 1,
   "nav_menu": {},
   "number_sections": true,
   "sideBar": true,
   "skip_h1_title": false,
   "title_cell": "Table of Contents",
   "title_sidebar": "Contents",
   "toc_cell": false,
   "toc_position": {},
   "toc_section_display": true,
   "toc_window_display": false
  }
 },
 "nbformat": 4,
 "nbformat_minor": 2
}
