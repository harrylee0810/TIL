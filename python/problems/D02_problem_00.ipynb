{
 "cells": [
  {
   "cell_type": "markdown",
   "metadata": {},
   "source": [
    "# 가상화폐 시세 판단하기"
   ]
  },
  {
   "cell_type": "markdown",
   "metadata": {},
   "source": [
    "> 최고가와 최저가의 차이를 변동폭으로 정의할 때 (시가 + 변동폭)이 최고가 보다 높을 경우 \"상승장\", 그렇지 않은 경우 \"하락장\" 문자열을 출력하라.\n",
    "\n",
    "|Key Name        |     Description|\n",
    "|---|---|\n",
    "|opeing_price    |최근 24시간 내 시작 거래금액|\n",
    "|closing_price   |최근 24시간 내 마지막 거래금액|\n",
    "|min_price       |최근 24시간 내 최저 거래금액|\n",
    "|max_price       |최근 24시간 내 최고 거래금액|"
   ]
  },
  {
   "cell_type": "code",
   "execution_count": null,
   "metadata": {},
   "outputs": [],
   "source": [
    "import requests\n",
    "btc = requests.get('https://api.bithumb.com/public/ticker/btc').json()['data']\n",
    "print(btc)"
   ]
  },
  {
   "cell_type": "code",
   "execution_count": null,
   "metadata": {},
   "outputs": [],
   "source": [
    "# 아래에 코드를 작성하세요.\n",
    "init_p = int(btc['opening_price'])\n",
    "max_p = int(btc['max_price'])\n",
    "min_p = int(btc['min_price'])\n",
    "deviation = max_p - min_p\n",
    "if init_p + deviation > max_p:\n",
    "    print(\"상승장\")\n",
    "else:\n",
    "    print(\"하락장\")"
   ]
  },
  {
   "cell_type": "markdown",
   "metadata": {},
   "source": [
    "## 모든 가상화폐 시세 판단하기\n",
    "\n",
    "\n",
    "> currrency dictionary에 담겨있는 모든 가상화폐 거래내역을 바탕으로 출력하라.\n",
    ">\n",
    "> 예외 처리에 유의하세요.\n",
    "\n",
    "\n",
    "\n",
    "```\n",
    "예시 출력)\n",
    "BTC 상승장\n",
    "ETH 상승장\n",
    "DASH 상승장\n",
    "LTC 하락장\n",
    "ETC 하락장\n",
    "XRP 상승장\n",
    "BCH 상승장\n",
    "...\n",
    "```\n"
   ]
  },
  {
   "cell_type": "code",
   "execution_count": null,
   "metadata": {},
   "outputs": [],
   "source": [
    "currency = requests.get('https://api.bithumb.com/public/ticker/all').json()['data']\n",
    "print(currency)"
   ]
  },
  {
   "cell_type": "code",
   "execution_count": null,
   "metadata": {},
   "outputs": [],
   "source": [
    "# 아래에 코드를 작성하세요.\n",
    "\n",
    "for k,v in currency.items():\n",
    "    #1번째 돌리기: key == 'BTC', value == {'opening_price':'4269000','closing_price':'4328000', .....}\n",
    "    try:\n",
    "        a = float(v['opening_price']) + float(v['max_price']) - float(v['min_price'])\n",
    "        b = float(v['max_price'])\n",
    "        if a > b:\n",
    "            print(f'{k} 상승장')\n",
    "        else:\n",
    "            print(f'{k} 하락장')\n",
    "    \n",
    "    except TypeError:\n",
    "        pass\n",
    "\n",
    "    \n",
    "#     if int(i['opening_prices'])+int(i['max_prices'])-int(i['min_prices']) > int(i['max_prices']):\n",
    "#         print(f'{i} 상승장')\n",
    "#     else:\n",
    "#         print('하락장')\n"
   ]
  },
  {
   "cell_type": "code",
   "execution_count": null,
   "metadata": {},
   "outputs": [],
   "source": [
    "#if 'max_price' in v:\n",
    "\n",
    "for k,v in currency.items():\n",
    "    #1번째 돌리기: key == 'BTC', value == {'opening_price':'4269000','closing_price':'4328000', .....}\n",
    "    if 'max_price' in v:\n",
    "        a = float(v['opening_price']) + float(v['max_price']) - float(v['min_price'])\n",
    "        b = float(v['max_price'])\n",
    "        if a > b:\n",
    "            print(f'{k} 상승장')\n",
    "        else:\n",
    "            print(f'{k} 하락장')"
   ]
  },
  {
   "cell_type": "code",
   "execution_count": null,
   "metadata": {},
   "outputs": [],
   "source": []
  }
 ],
 "metadata": {
  "kernelspec": {
   "display_name": "Python 3",
   "language": "python",
   "name": "python3"
  },
  "toc": {
   "base_numbering": 1,
   "nav_menu": {},
   "number_sections": true,
   "sideBar": true,
   "skip_h1_title": false,
   "title_cell": "Table of Contents",
   "title_sidebar": "Contents",
   "toc_cell": false,
   "toc_position": {},
   "toc_section_display": true,
   "toc_window_display": false
  }
 },
 "nbformat": 4,
 "nbformat_minor": 2
}
