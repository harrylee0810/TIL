{
 "cells": [
  {
   "cell_type": "code",
   "execution_count": 1,
   "metadata": {},
   "outputs": [
    {
     "name": "stdout",
     "output_type": "stream",
     "text": [
      "5.0 0.0 5\n"
     ]
    }
   ],
   "source": [
    "print(abs(3+4j), abs(-0.0), abs(-5))"
   ]
  },
  {
   "cell_type": "code",
   "execution_count": 2,
   "metadata": {},
   "outputs": [
    {
     "name": "stdout",
     "output_type": "stream",
     "text": [
      "5.0\n",
      "0\n",
      "3\n",
      "0.0\n"
     ]
    }
   ],
   "source": [
    "def my_abs(x):\n",
    "    if type(x) == int or type(x) == float:\n",
    "        if x > 0:\n",
    "            return x\n",
    "        elif x < 0:\n",
    "            return -x\n",
    "        elif x == 0:\n",
    "            return x**2\n",
    "    \n",
    "    else:\n",
    "        return (x.real**2 + x.imag**2)**(1/2)\n",
    "\n",
    "\n",
    "\n",
    "print(my_abs(3+4j))  \n",
    "print(my_abs(0))\n",
    "print(my_abs(-3))\n",
    "print(my_abs(-0.0)) "
   ]
  },
  {
   "cell_type": "code",
   "execution_count": 3,
   "metadata": {},
   "outputs": [
    {
     "name": "stdout",
     "output_type": "stream",
     "text": [
      "True\n",
      "False\n",
      "True\n",
      "False\n"
     ]
    }
   ],
   "source": [
    "print(all([1, 2, 5, '6']))\n",
    "print(all([[], 2, 5, '6']))\n",
    "print(all([]))\n",
    "print(all([[], [], [], []]))"
   ]
  },
  {
   "cell_type": "code",
   "execution_count": 20,
   "metadata": {},
   "outputs": [
    {
     "name": "stdout",
     "output_type": "stream",
     "text": [
      "True\n",
      "False\n",
      "True\n",
      "False\n"
     ]
    }
   ],
   "source": [
    "def my_all(x):\n",
    "    for i in x:\n",
    "        if not i:\n",
    "        if bool(i)== False:\n",
    "            return False\n",
    "    return True\n",
    "            \n",
    "    \n",
    "    \n",
    "\n",
    "\n",
    "print(my_all([1, 2, 5, '6']))\n",
    "print(my_all([[], 2, 5, '6']))\n",
    "print(my_all([]))\n",
    "print(my_all([[], [], [], []]))"
   ]
  },
  {
   "cell_type": "code",
   "execution_count": 21,
   "metadata": {},
   "outputs": [
    {
     "name": "stdout",
     "output_type": "stream",
     "text": [
      "True\n",
      "True\n",
      "False\n",
      "True\n"
     ]
    }
   ],
   "source": [
    "print(any([1, 2, 5, '6']))\n",
    "print(any([[], 2, 5, '6']))\n",
    "print(any([0]))\n",
    "print(any([6,[]]))"
   ]
  },
  {
   "cell_type": "code",
   "execution_count": 22,
   "metadata": {},
   "outputs": [
    {
     "name": "stdout",
     "output_type": "stream",
     "text": [
      "True\n",
      "True\n",
      "False\n"
     ]
    }
   ],
   "source": [
    "def my_any(x):\n",
    "    for i in x:\n",
    "        if i:\n",
    "            return True\n",
    "    return False\n",
    "print(my_any([1, 2, 5, '6']))\n",
    "print(my_any([[], 2, 5, '6']))\n",
    "print(my_any([0]))"
   ]
  },
  {
   "cell_type": "code",
   "execution_count": 26,
   "metadata": {},
   "outputs": [
    {
     "name": "stdout",
     "output_type": "stream",
     "text": [
      "0b11001\n"
     ]
    }
   ],
   "source": [
    "def my_bin(x):\n",
    "    result = ''\n",
    "    while x > 0:\n",
    "        mok = x // 2\n",
    "        nam = x % 2\n",
    "        x = mok\n",
    "        result =  str(nam) + result\n",
    "    \n",
    "    return '0b' + result\n",
    "    \n",
    "\n",
    "print(my_bin(25))"
   ]
  },
  {
   "cell_type": "code",
   "execution_count": 27,
   "metadata": {},
   "outputs": [
    {
     "name": "stdout",
     "output_type": "stream",
     "text": [
      "0b11001\n"
     ]
    }
   ],
   "source": [
    "def my_bin(x):\n",
    "    mok = x //2\n",
    "    nam = x % 2\n",
    "    result = ''\n",
    "    if mok == 0:\n",
    "        return result + '0b1'\n",
    "    else:\n",
    "        return my_bin(x//2) + str(nam)\n",
    "    \n",
    "\n",
    "print(my_bin(25))"
   ]
  },
  {
   "cell_type": "code",
   "execution_count": null,
   "metadata": {},
   "outputs": [],
   "source": [
    "positive_sum([1,-4,7,12]) #=> 20\n",
    "positive_sum([-1, -2, -3, -4]) #=> 0"
   ]
  },
  {
   "cell_type": "code",
   "execution_count": 29,
   "metadata": {},
   "outputs": [
    {
     "name": "stdout",
     "output_type": "stream",
     "text": [
      "20\n",
      "0\n"
     ]
    }
   ],
   "source": [
    "def positive_sum(x):\n",
    "    result = 0\n",
    "    for i in x:\n",
    "        if i > 0:\n",
    "            result +=i\n",
    "        else:\n",
    "            continue\n",
    "    return result\n",
    "\n",
    "\n",
    "print(positive_sum([1,-4,7,12]))\n",
    "print(positive_sum([-1, -2, -3, -4]))"
   ]
  },
  {
   "cell_type": "code",
   "execution_count": 30,
   "metadata": {},
   "outputs": [
    {
     "name": "stdout",
     "output_type": "stream",
     "text": [
      "20\n",
      "0\n"
     ]
    }
   ],
   "source": [
    "def positive_sum(x):\n",
    "    \n",
    "    return sum(i for i in x if i >0)\n",
    "\n",
    "\n",
    "print(positive_sum([1,-4,7,12]))\n",
    "print(positive_sum([-1, -2, -3, -4]))"
   ]
  },
  {
   "cell_type": "code",
   "execution_count": 31,
   "metadata": {},
   "outputs": [
    {
     "data": {
      "text/plain": [
       "'Lf s t shrt, y nd pythn'"
      ]
     },
     "execution_count": 31,
     "metadata": {},
     "output_type": "execute_result"
    }
   ],
   "source": [
    "def shortcut(x):\n",
    "    mo = \"aeiou\"\n",
    "    result = \"\"\n",
    "    for i in x:\n",
    "        if i not in mo:\n",
    "            result += i\n",
    "    return result\n",
    "\n",
    "\n",
    "\n",
    "shortcut(\"Life is too short, you need python\")\n"
   ]
  },
  {
   "cell_type": "code",
   "execution_count": 35,
   "metadata": {},
   "outputs": [
    {
     "data": {
      "text/plain": [
       "'Lf s t shrt, y nd pythn'"
      ]
     },
     "execution_count": 35,
     "metadata": {},
     "output_type": "execute_result"
    }
   ],
   "source": [
    "def shortcut(x):\n",
    "    for i in 'aieou':\n",
    "        x = x.replace(i, '')\n",
    "    return x\n",
    "\n",
    "\n",
    "\n",
    "shortcut(\"Life is too short, you need python\")"
   ]
  },
  {
   "cell_type": "code",
   "execution_count": 37,
   "metadata": {},
   "outputs": [
    {
     "data": {
      "text/plain": [
       "3"
      ]
     },
     "execution_count": 37,
     "metadata": {},
     "output_type": "execute_result"
    }
   ],
   "source": [
    "def start_end(x):\n",
    "    count = 0\n",
    "    for i in x:\n",
    "        if len(i) >= 2 and i[0] == i[-1]:\n",
    "            count +=1\n",
    "        else:\n",
    "            continue\n",
    "    return count\n",
    "\n",
    "\n",
    "start_end(['level', 'asdwe', 's', 'abceda', 'gsdwrtfg']) #=> 3"
   ]
  },
  {
   "cell_type": "code",
   "execution_count": 42,
   "metadata": {},
   "outputs": [
    {
     "name": "stdout",
     "output_type": "stream",
     "text": [
      "8\n",
      "4\n",
      "-1\n"
     ]
    }
   ],
   "source": [
    "def collatz(x):\n",
    "    count = 0\n",
    "    while x > 1:\n",
    "        if x % 2 == 0:\n",
    "            x = x // 2\n",
    "        elif x % 2 == 1:\n",
    "            x = x*3 + 1\n",
    "        count +=1\n",
    "    if count > 500:\n",
    "        count = -1\n",
    "    \n",
    "    return count\n",
    "\n",
    "\n",
    "\n",
    "print(collatz(6)) #=> 8\n",
    "print(collatz(16)) #=> 4\n",
    "print(collatz(626331)) #=> -1"
   ]
  },
  {
   "cell_type": "code",
   "execution_count": null,
   "metadata": {},
   "outputs": [],
   "source": []
  },
  {
   "cell_type": "code",
   "execution_count": null,
   "metadata": {},
   "outputs": [],
   "source": []
  },
  {
   "cell_type": "code",
   "execution_count": null,
   "metadata": {},
   "outputs": [],
   "source": []
  },
  {
   "cell_type": "code",
   "execution_count": null,
   "metadata": {},
   "outputs": [],
   "source": []
  }
 ],
 "metadata": {
  "kernelspec": {
   "display_name": "Python 3",
   "language": "python",
   "name": "python3"
  },
  "language_info": {
   "codemirror_mode": {
    "name": "ipython",
    "version": 3
   },
   "file_extension": ".py",
   "mimetype": "text/x-python",
   "name": "python",
   "nbconvert_exporter": "python",
   "pygments_lexer": "ipython3",
   "version": "3.7.1"
  }
 },
 "nbformat": 4,
 "nbformat_minor": 2
}
