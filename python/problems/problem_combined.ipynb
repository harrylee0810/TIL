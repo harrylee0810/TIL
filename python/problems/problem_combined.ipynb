{
 "cells": [
  {
   "cell_type": "markdown",
   "metadata": {},
   "source": [
    "# D02 Problem\n",
    "## 웹 크롤링 + 딕셔너리 활용"
   ]
  },
  {
   "cell_type": "markdown",
   "metadata": {},
   "source": [
    "##  가상화폐 시세 판단하기"
   ]
  },
  {
   "cell_type": "markdown",
   "metadata": {},
   "source": [
    "> 최고가와 최저가의 차이를 변동폭으로 정의할 때 (시가 + 변동폭)이 최고가 보다 높을 경우 \"상승장\", 그렇지 않은 경우 \"하락장\" 문자열을 출력하라.\n",
    "\n",
    "|Key Name        |     Description|\n",
    "|---|---|\n",
    "|opeing_price    |최근 24시간 내 시작 거래금액|\n",
    "|closing_price   |최근 24시간 내 마지막 거래금액|\n",
    "|min_price       |최근 24시간 내 최저 거래금액|\n",
    "|max_price       |최근 24시간 내 최고 거래금액|"
   ]
  },
  {
   "cell_type": "code",
   "execution_count": 1,
   "metadata": {},
   "outputs": [
    {
     "name": "stdout",
     "output_type": "stream",
     "text": [
      "{'opening_price': '4053000', 'closing_price': '4126000', 'min_price': '4050000', 'max_price': '4180000', 'average_price': '4121956.8847', 'units_traded': '2608.12450094', 'volume_1day': '2608.12450094', 'volume_7day': '23969.35069049', 'buy_price': '4121000', 'sell_price': '4126000', '24H_fluctate': '73000', '24H_fluctate_rate': '1.80', 'date': '1547971144434'}\n"
     ]
    }
   ],
   "source": [
    "import requests\n",
    "btc = requests.get('https://api.bithumb.com/public/ticker/btc').json()['data']\n",
    "print(btc)"
   ]
  },
  {
   "cell_type": "code",
   "execution_count": 2,
   "metadata": {},
   "outputs": [
    {
     "name": "stdout",
     "output_type": "stream",
     "text": [
      "상승장\n"
     ]
    }
   ],
   "source": [
    "# 아래에 코드를 작성하세요.\n",
    "init_p = int(btc['opening_price'])\n",
    "max_p = int(btc['max_price'])\n",
    "min_p = int(btc['min_price'])\n",
    "deviation = max_p - min_p\n",
    "if init_p + deviation > max_p:\n",
    "    print(\"상승장\")\n",
    "else:\n",
    "    print(\"하락장\")"
   ]
  },
  {
   "cell_type": "markdown",
   "metadata": {},
   "source": [
    "## 모든 가상화폐 시세 판단하기\n",
    "\n",
    "\n",
    "> currrency dictionary에 담겨있는 모든 가상화폐 거래내역을 바탕으로 출력하라.\n",
    ">\n",
    "> 예외 처리에 유의하세요.\n",
    "\n",
    "\n",
    "\n",
    "```\n",
    "예시 출력)\n",
    "BTC 상승장\n",
    "ETH 상승장\n",
    "DASH 상승장\n",
    "LTC 하락장\n",
    "ETC 하락장\n",
    "XRP 상승장\n",
    "BCH 상승장\n",
    "...\n",
    "```\n"
   ]
  },
  {
   "cell_type": "code",
   "execution_count": 5,
   "metadata": {
    "collapsed": true
   },
   "outputs": [
    {
     "name": "stdout",
     "output_type": "stream",
     "text": [
      "{'BTC': {'opening_price': '4053000', 'closing_price': '4126000', 'min_price': '4050000', 'max_price': '4180000', 'average_price': '4121977.6916', 'units_traded': '2607.88250094', 'volume_1day': '2607.88250094', 'volume_7day': '23969.35069049', 'buy_price': '4121000', 'sell_price': '4126000', '24H_fluctate': '73000', '24H_fluctate_rate': '1.80'}, 'ETH': {'opening_price': '134900', 'closing_price': '137100', 'min_price': '134600', 'max_price': '141000', 'average_price': '138027.3649', 'units_traded': '57839.70875401', 'volume_1day': '57839.70875401', 'volume_7day': '834921.890516209408911112', 'buy_price': '137100', 'sell_price': '137400', '24H_fluctate': '2200', '24H_fluctate_rate': '1.63'}, 'DASH': {'opening_price': '78900', 'closing_price': '80150', 'min_price': '78800', 'max_price': '82200', 'average_price': '80952.2012', 'units_traded': '43900.0212', 'volume_1day': '43900.0212', 'volume_7day': '27435970.70325762', 'buy_price': '80100', 'sell_price': '80400', '24H_fluctate': '1250', '24H_fluctate_rate': '1.58'}, 'LTC': {'opening_price': '34820', 'closing_price': '36960', 'min_price': '34760', 'max_price': '37070', 'average_price': '36313.5', 'units_traded': '9695.09753514', 'volume_1day': '9695.09753514', 'volume_7day': '73049.72412378', 'buy_price': '36860', 'sell_price': '36940', '24H_fluctate': '2140', '24H_fluctate_rate': '6.14'}, 'ETC': {'opening_price': '4957', 'closing_price': '4906', 'min_price': '4865', 'max_price': '5095', 'average_price': '4978.1642', 'units_traded': '48814.90362727', 'volume_1day': '48814.90362727', 'volume_7day': '719172.787043356637721042', 'buy_price': '4896', 'sell_price': '4906', '24H_fluctate': '-51', '24H_fluctate_rate': '-1.02'}, 'XRP': {'opening_price': '361', 'closing_price': '365', 'min_price': '361', 'max_price': '374', 'average_price': '367.2308', 'units_traded': '26029450.67459785', 'volume_1day': '26029450.67459785', 'volume_7day': '258740457.16844229', 'buy_price': '364', 'sell_price': '365', '24H_fluctate': '4', '24H_fluctate_rate': '1.10'}, 'BCH': {'opening_price': '141300', 'closing_price': '142900', 'min_price': '140900', 'max_price': '146200', 'average_price': '143944.0327', 'units_traded': '13651.15821573', 'volume_1day': '13651.15821573', 'volume_7day': '187284.78932658', 'buy_price': '142800', 'sell_price': '143100', '24H_fluctate': '1600', '24H_fluctate_rate': '1.13'}, 'XMR': {'opening_price': '50050', 'closing_price': '50750', 'min_price': '50000', 'max_price': '51600', 'average_price': '51056.3315', 'units_traded': '1792658.9544795', 'volume_1day': '1792658.9544795', 'volume_7day': '26838123.084909198298', 'buy_price': '50750', 'sell_price': '50800', '24H_fluctate': '700', '24H_fluctate_rate': '1.39'}, 'ZEC': {'opening_price': '59150', 'closing_price': '60050', 'min_price': '59100', 'max_price': '60800', 'average_price': '60243.7826', 'units_traded': '8172311.47018979', 'volume_1day': '8172311.47018979', 'volume_7day': '59361154.718633', 'buy_price': '59900', 'sell_price': '60050', '24H_fluctate': '900', '24H_fluctate_rate': '1.52'}, 'QTUM': {'opening_price': '2327', 'closing_price': '2378', 'min_price': '2326', 'max_price': '2413', 'average_price': '2382.5581', 'units_traded': '204603.02836244', 'volume_1day': '204603.02836244', 'volume_7day': '2326853.82708307', 'buy_price': '2378', 'sell_price': '2383', '24H_fluctate': '51', '24H_fluctate_rate': '2.19'}, 'BTG': {'opening_price': '12530', 'closing_price': '12700', 'min_price': '12440', 'max_price': '13190', 'average_price': '12707.4013', 'units_traded': '17773832.23564008', 'volume_1day': '17773832.23564008', 'volume_7day': '132869211.89068316', 'buy_price': '12710', 'sell_price': '12760', '24H_fluctate': '170', '24H_fluctate_rate': '1.35'}, 'EOS': {'opening_price': '2724', 'closing_price': '2740', 'min_price': '2707', 'max_price': '2810', 'average_price': '2760.7467', 'units_traded': '1211443.92598121', 'volume_1day': '1211443.92598121', 'volume_7day': '14268600.74336063', 'buy_price': '2737', 'sell_price': '2740', '24H_fluctate': '16', '24H_fluctate_rate': '0.58'}, 'ICX': {'opening_price': '267', 'closing_price': '270', 'min_price': '263', 'max_price': '274', 'average_price': '269.2917', 'units_traded': '440989.61586757', 'volume_1day': '440989.61586757', 'volume_7day': '6471049.526828923287851607', 'buy_price': '267', 'sell_price': '270', '24H_fluctate': '3', '24H_fluctate_rate': '1.12'}, 'VET': {'opening_price': '8.84', 'closing_price': '9.04', 'min_price': '8.67', 'max_price': '9.25', 'average_price': '8.9619', 'units_traded': '54962610.62862869', 'volume_1day': '54962610.62862869', 'volume_7day': '1526418509.248749913607156282', 'buy_price': '8.96', 'sell_price': '9.04', '24H_fluctate': '0.2', '24H_fluctate_rate': '2.26'}, 'TRX': {'opening_price': '26.9', 'closing_price': '27', 'min_price': '26.9', 'max_price': '27.9', 'average_price': '27.3367', 'units_traded': '120366339.81001496', 'volume_1day': '120366339.81001496', 'volume_7day': '2982755032.68913723', 'buy_price': '27', 'sell_price': '27.1', '24H_fluctate': '0.1', '24H_fluctate_rate': '0.37'}, 'ELF': {'opening_price': '122', 'closing_price': '130', 'min_price': '119', 'max_price': '130', 'average_price': '126.9408', 'units_traded': '1927497.08268126', 'volume_1day': '1927497.08268126', 'volume_7day': '19836399.400314983434757343', 'buy_price': '129', 'sell_price': '130', '24H_fluctate': '8', '24H_fluctate_rate': '6.55'}, 'MITH': {'opening_price': '57.4', 'closing_price': '59.8', 'min_price': '57.4', 'max_price': '61', 'average_price': '59.727', 'units_traded': '5816802.79216154', 'volume_1day': '5816802.79216154', 'volume_7day': '90617556.652960108159512894', 'buy_price': '59.8', 'sell_price': '60.1', '24H_fluctate': '2.4', '24H_fluctate_rate': '4.18'}, 'MCO': {'opening_price': '2515', 'closing_price': '2682', 'min_price': '2515', 'max_price': '2683', 'average_price': '2631.9157', 'units_traded': '37550.61855565', 'volume_1day': '37550.61855565', 'volume_7day': '271384.79946833', 'buy_price': '2650', 'sell_price': '2683', '24H_fluctate': '167', '24H_fluctate_rate': '6.64'}, 'OMG': {'opening_price': '1448', 'closing_price': '1496', 'min_price': '1437', 'max_price': '1496', 'average_price': '1469.4113', 'units_traded': '214021369.52863497', 'volume_1day': '214021369.52863497', 'volume_7day': '794884233.830573939971825731', 'buy_price': '1496', 'sell_price': '1497', '24H_fluctate': '48', '24H_fluctate_rate': '3.31'}, 'KNC': {'opening_price': '155', 'closing_price': '163', 'min_price': '155', 'max_price': '166', 'average_price': '161.2296', 'units_traded': '751888.1729', 'volume_1day': '751888.1729', 'volume_7day': '8437485.083306689638038868', 'buy_price': '163', 'sell_price': '164', '24H_fluctate': '8', '24H_fluctate_rate': '5.16'}, 'GNT': {'opening_price': '74.2', 'closing_price': '76.3', 'min_price': '74.1', 'max_price': '77.3', 'average_price': '75.8115', 'units_traded': '977816.0799', 'volume_1day': '977816.0799', 'volume_7day': '17456614.037754247892044661', 'buy_price': '76', 'sell_price': '76.3', '24H_fluctate': '2.1', '24H_fluctate_rate': '2.83'}, 'ZIL': {'opening_price': '24.6', 'closing_price': '24.6', 'min_price': '24.2', 'max_price': '25.5', 'average_price': '24.9146', 'units_traded': '41787213.71801558', 'volume_1day': '41787213.71801558', 'volume_7day': '474523767.99078838033', 'buy_price': '24.6', 'sell_price': '24.7', '24H_fluctate': '0', '24H_fluctate_rate': '0.00'}, 'ETHOS': {'opening_price': '261', 'closing_price': '239', 'min_price': '234', 'max_price': '267', 'average_price': '248.3315', 'units_traded': '14761210.60338745', 'volume_1day': '14761210.60338745', 'volume_7day': '64333001.92417682', 'buy_price': '239', 'sell_price': '240', '24H_fluctate': '-22', '24H_fluctate_rate': '-8.42'}, 'PAY': {'opening_price': '400', 'closing_price': '387', 'min_price': '361', 'max_price': '425', 'average_price': '392.4286', 'units_traded': '9741651.3468318', 'volume_1day': '9741651.3468318', 'volume_7day': '33109627.752750552400883642', 'buy_price': '385', 'sell_price': '388', '24H_fluctate': '-13', '24H_fluctate_rate': '-3.25'}, 'WAX': {'opening_price': '44.9', 'closing_price': '44.6', 'min_price': '43.8', 'max_price': '49', 'average_price': '45.6565', 'units_traded': '7738800.93132381', 'volume_1day': '7738800.93132381', 'volume_7day': '86147553.62528404', 'buy_price': '44.6', 'sell_price': '44.9', '24H_fluctate': '-0.3', '24H_fluctate_rate': '-0.66'}, 'POWR': {'opening_price': '129', 'closing_price': '131', 'min_price': '124', 'max_price': '141', 'average_price': '132.8469', 'units_traded': '36252260.71146823', 'volume_1day': '36252260.71146823', 'volume_7day': '102266667.0645653', 'buy_price': '131', 'sell_price': '132', '24H_fluctate': '2', '24H_fluctate_rate': '1.55'}, 'LRC': {'opening_price': '465', 'closing_price': '444', 'min_price': '413', 'max_price': '490', 'average_price': '451.0422', 'units_traded': '1068941.89246539', 'volume_1day': '1068941.89246539', 'volume_7day': '6285191.777931490049985631', 'buy_price': '444', 'sell_price': '447', '24H_fluctate': '-21', '24H_fluctate_rate': '-4.51'}, 'GTO': {'opening_price': '31.5', 'closing_price': '31.8', 'min_price': '31.4', 'max_price': '34.5', 'average_price': '32.638', 'units_traded': '17475379.09769412', 'volume_1day': '17475379.09769412', 'volume_7day': '139415582.09468002', 'buy_price': '31.8', 'sell_price': '32', '24H_fluctate': '0.3', '24H_fluctate_rate': '0.95'}, 'STEEM': {'opening_price': '1210', 'closing_price': '1324', 'min_price': '1160', 'max_price': '1350', 'average_price': '1255.4699', 'units_traded': '143692.73323839', 'volume_1day': '143692.73323839', 'volume_7day': '1210375.21896233', 'buy_price': '1300', 'sell_price': '1325', '24H_fluctate': '114', '24H_fluctate_rate': '9.42'}, 'STRAT': {'opening_price': '1118', 'closing_price': '1162', 'min_price': '1114', 'max_price': '1269', 'average_price': '1187.4386', 'units_traded': '706714.39474336', 'volume_1day': '706714.39474336', 'volume_7day': '6798927.62906273', 'buy_price': '1145', 'sell_price': '1162', '24H_fluctate': '44', '24H_fluctate_rate': '3.93'}, 'ZRX': {'opening_price': '326', 'closing_price': '330', 'min_price': '326', 'max_price': '339', 'average_price': '332.8857', 'units_traded': '218239.32760822', 'volume_1day': '218239.32760822', 'volume_7day': '4754623.849810759781759113', 'buy_price': '330', 'sell_price': '332', '24H_fluctate': '4', '24H_fluctate_rate': '1.22'}, 'REP': {'opening_price': '18230', 'closing_price': '20730', 'min_price': '18160', 'max_price': '23000', 'average_price': '20535.1425', 'units_traded': '876396.18477386', 'volume_1day': '876396.18477386', 'volume_7day': '1803325.055979939255643833', 'buy_price': '20720', 'sell_price': '20760', '24H_fluctate': '2500', '24H_fluctate_rate': '13.71'}, 'AE': {'opening_price': '476', 'closing_price': '490', 'min_price': '475', 'max_price': '529', 'average_price': '501.6573', 'units_traded': '4343984.58155364', 'volume_1day': '4343984.58155364', 'volume_7day': '50053329.444577392735944759', 'buy_price': '489', 'sell_price': '490', '24H_fluctate': '14', '24H_fluctate_rate': '2.94'}, 'XEM': {'opening_price': '62.5', 'closing_price': '63.8', 'min_price': '62.4', 'max_price': '64.3', 'average_price': '63.6322', 'units_traded': '587222.77980722', 'volume_1day': '587222.77980722', 'volume_7day': '12900403.21123664', 'buy_price': '63.2', 'sell_price': '63.9', '24H_fluctate': '1.3', '24H_fluctate_rate': '2.08'}, 'SNT': {'opening_price': '26.8', 'closing_price': '27.2', 'min_price': '26.8', 'max_price': '31', 'average_price': '28.1788', 'units_traded': '135534827.86979516', 'volume_1day': '135534827.86979516', 'volume_7day': '332693476.419071278928198984', 'buy_price': '27.2', 'sell_price': '27.3', '24H_fluctate': '0.4', '24H_fluctate_rate': '1.49'}, 'ADA': {'opening_price': '49.4', 'closing_price': '50.4', 'min_price': '49.3', 'max_price': '51.8', 'average_price': '50.779', 'units_traded': '31148386.93928054', 'volume_1day': '31148386.93928054', 'volume_7day': '91430333.17626144', 'buy_price': '50.4', 'sell_price': '50.7', '24H_fluctate': '1', '24H_fluctate_rate': '2.02'}, 'PPT': {'opening_price': '1487', 'closing_price': '1522', 'min_price': '1406', 'max_price': '1548', 'average_price': '1506.4423', 'units_traded': '55221.78479578', 'volume_1day': '55221.78479578', 'volume_7day': '2497082.30245297', 'buy_price': '1515', 'sell_price': '1523', '24H_fluctate': '35', '24H_fluctate_rate': '2.35'}, 'CTXC': {'opening_price': '113', 'closing_price': '116', 'min_price': '112', 'max_price': '120', 'average_price': '116.3872', 'units_traded': '1152495.79371453', 'volume_1day': '1152495.79371453', 'volume_7day': '10258575.813125169620932058', 'buy_price': '116', 'sell_price': '117', '24H_fluctate': '3', '24H_fluctate_rate': '2.65'}, 'CMT': {'opening_price': '31.6', 'closing_price': '32.5', 'min_price': '29.3', 'max_price': '33.4', 'average_price': '31.8631', 'units_traded': '6769178.94281097', 'volume_1day': '6769178.94281097', 'volume_7day': '92221106.104268849536567459', 'buy_price': '32.5', 'sell_price': '32.6', '24H_fluctate': '0.9', '24H_fluctate_rate': '2.84'}, 'THETA': {'opening_price': '51.4', 'closing_price': '54.1', 'min_price': '51.4', 'max_price': '60.6', 'average_price': '55.5448', 'units_traded': '17559398.36026924', 'volume_1day': '17559398.36026924', 'volume_7day': '42116588.835493855927704209', 'buy_price': '53.8', 'sell_price': '54.1', '24H_fluctate': '2.7', '24H_fluctate_rate': '5.25'}, 'WTC': {'opening_price': '1285', 'closing_price': '1357', 'min_price': '1258', 'max_price': '1375', 'average_price': '1327.875', 'units_traded': '50770.37882049', 'volume_1day': '50770.37882049', 'volume_7day': '1885051.853057360124577738', 'buy_price': '1333', 'sell_price': '1349', '24H_fluctate': '72', '24H_fluctate_rate': '5.60'}, 'ITC': {'opening_price': '123', 'closing_price': '124', 'min_price': '122', 'max_price': '126', 'average_price': '123.8065', 'units_traded': '426645.89522581', 'volume_1day': '426645.89522581', 'volume_7day': '5693152.481099450924440346', 'buy_price': '123', 'sell_price': '124', '24H_fluctate': '1', '24H_fluctate_rate': '0.81'}, 'TRUE': {'opening_price': '247', 'closing_price': '255', 'min_price': '246', 'max_price': '264', 'average_price': '256.9395', 'units_traded': '263731.44215841', 'volume_1day': '263731.44215841', 'volume_7day': '1504216.045499625727386617', 'buy_price': '255', 'sell_price': '259', '24H_fluctate': '8', '24H_fluctate_rate': '3.23'}, 'ABT': {'opening_price': '76.2', 'closing_price': '77.4', 'min_price': '75.8', 'max_price': '79.9', 'average_price': '77.5511', 'units_traded': '1293751.5083034', 'volume_1day': '1293751.5083034', 'volume_7day': '7001244.484307284811450348', 'buy_price': '77', 'sell_price': '77.4', '24H_fluctate': '1.2', '24H_fluctate_rate': '1.57'}, 'RNT': {'opening_price': '72.3', 'closing_price': '73.5', 'min_price': '70.7', 'max_price': '76.1', 'average_price': '73.4123', 'units_traded': '6875948.85152931', 'volume_1day': '6875948.85152931', 'volume_7day': '92139777.996101202484108451', 'buy_price': '73.5', 'sell_price': '73.9', '24H_fluctate': '1.2', '24H_fluctate_rate': '1.65'}, 'PLY': {'opening_price': '33.9', 'closing_price': '33.7', 'min_price': '33.3', 'max_price': '34.4', 'average_price': '33.786', 'units_traded': '6772680.22249564', 'volume_1day': '6772680.22249564', 'volume_7day': '55954079.867598216', 'buy_price': '33.7', 'sell_price': '33.9', '24H_fluctate': '-0.2', '24H_fluctate_rate': '-0.58'}, 'WAVES': {'opening_price': '2829', 'closing_price': '2888', 'min_price': '2820', 'max_price': '2961', 'average_price': '2888.4667', 'units_traded': '80918.98356831', 'volume_1day': '80918.98356831', 'volume_7day': '1912930.80080196', 'buy_price': '2863', 'sell_price': '2881', '24H_fluctate': '59', '24H_fluctate_rate': '2.08'}, 'LINK': {'opening_price': '534', 'closing_price': '544', 'min_price': '525', 'max_price': '551', 'average_price': '538.2875', 'units_traded': '375588.99834148', 'volume_1day': '375588.99834148', 'volume_7day': '18051289.599030920485139531', 'buy_price': '542', 'sell_price': '544', '24H_fluctate': '10', '24H_fluctate_rate': '1.87'}, 'ENJ': {'opening_price': '37.2', 'closing_price': '37.3', 'min_price': '36.9', 'max_price': '39', 'average_price': '38.1367', 'units_traded': '1666068.24119492', 'volume_1day': '1666068.24119492', 'volume_7day': '23436603.437782616860540463', 'buy_price': '37.3', 'sell_price': '38', '24H_fluctate': '0.09', '24H_fluctate_rate': '0.26'}, 'PST': {'opening_price': '108', 'closing_price': '109', 'min_price': '104', 'max_price': '113', 'average_price': '109.1357', 'units_traded': '1530789.50947598', 'volume_1day': '1530789.50947598', 'volume_7day': '17807110.851901773530448115', 'buy_price': '108', 'sell_price': '109', '24H_fluctate': '1', '24H_fluctate_rate': '0.92'}, 'SALT': {'opening_price': '245', 'closing_price': '269', 'min_price': '244', 'max_price': '300', 'average_price': '274.2429', 'units_traded': '3039225.94000436', 'volume_1day': '3039225.94000436', 'volume_7day': '10201915.45146997', 'buy_price': '267', 'sell_price': '269', '24H_fluctate': '24', '24H_fluctate_rate': '9.79'}, 'RDN': {'opening_price': '261', 'closing_price': '257', 'min_price': '252', 'max_price': '295', 'average_price': '268.8436', 'units_traded': '1474420.73221327', 'volume_1day': '1474420.73221327', 'volume_7day': '7501493.407799413381782591', 'buy_price': '257', 'sell_price': '260', '24H_fluctate': '-4', '24H_fluctate_rate': '-1.53'}, 'LOOM': {'opening_price': '51.6', 'closing_price': '51.8', 'min_price': '49.9', 'max_price': '53.3', 'average_price': '52.0768', 'units_traded': '396161.73308471', 'volume_1day': '396161.73308471', 'volume_7day': '16211213.02515110182103848', 'buy_price': '51.7', 'sell_price': '52.1', '24H_fluctate': '0.2', '24H_fluctate_rate': '0.38'}, 'BHPC': {'opening_price': '757', 'closing_price': '780', 'min_price': '747', 'max_price': '820', 'average_price': '782.2096', 'units_traded': '280374.90782911', 'volume_1day': '280374.90782911', 'volume_7day': '3570524.153211691104577621', 'buy_price': '781', 'sell_price': '787', '24H_fluctate': '23', '24H_fluctate_rate': '3.03'}, 'PIVX': {'opening_price': '871', 'closing_price': '860', 'min_price': '850', 'max_price': '923', 'average_price': '880.8151', 'units_traded': '67852.23908564', 'volume_1day': '67852.23908564', 'volume_7day': '1907148.07050946', 'buy_price': '863', 'sell_price': '876', '24H_fluctate': '-11', '24H_fluctate_rate': '-1.26'}, 'INS': {'opening_price': '339', 'closing_price': '361', 'min_price': '331', 'max_price': '361', 'average_price': '344.3145', 'units_traded': '687807.9063', 'volume_1day': '687807.9063', 'volume_7day': '9791748.1762739097', 'buy_price': '359', 'sell_price': '361', '24H_fluctate': '22', '24H_fluctate_rate': '6.48'}, 'BCD': {'opening_price': '869', 'closing_price': '905', 'min_price': '866', 'max_price': '905', 'average_price': '890.4482', 'units_traded': '139709.75638574', 'volume_1day': '139709.75638574', 'volume_7day': '728736.00252898', 'buy_price': '902', 'sell_price': '905', '24H_fluctate': '36', '24H_fluctate_rate': '4.14'}, 'BZNT': {'opening_price': '27.3', 'closing_price': '27.6', 'min_price': '27.2', 'max_price': '28', 'average_price': '27.6019', 'units_traded': '5984254.20749433', 'volume_1day': '5984254.20749433', 'volume_7day': '79573421.594073759418910803', 'buy_price': '27.5', 'sell_price': '27.6', '24H_fluctate': '0.3', '24H_fluctate_rate': '1.09'}, 'XLM': {'opening_price': '119', 'closing_price': '120', 'min_price': '119', 'max_price': '123', 'average_price': '120.722', 'units_traded': '5389386.77021404', 'volume_1day': '5389386.77021404', 'volume_7day': '52911391.83561291', 'buy_price': '119', 'sell_price': '120', '24H_fluctate': '1', '24H_fluctate_rate': '0.84'}, 'OCN': {'opening_price': '3.14', 'closing_price': '3.42', 'min_price': '3.13', 'max_price': '3.58', 'average_price': '3.3805', 'units_traded': '124961804.77386913', 'volume_1day': '124961804.77386913', 'volume_7day': '504026904.184847219077049361', 'buy_price': '3.41', 'sell_price': '3.42', '24H_fluctate': '0.28', '24H_fluctate_rate': '8.91'}, 'BSV': {'opening_price': '84100', 'closing_price': '84800', 'min_price': '84000', 'max_price': '86850', 'average_price': '85280.7394', 'units_traded': '11199.42269192', 'volume_1day': '11199.42269192', 'volume_7day': '187590.04444984', 'buy_price': '84650', 'sell_price': '84850', '24H_fluctate': '700', '24H_fluctate_rate': '0.83'}, 'TMTG': {'opening_price': '5.26', 'closing_price': '5.21', 'min_price': '5.19', 'max_price': '5.45', 'average_price': '5.3222', 'units_traded': '222851479.08392495', 'volume_1day': '222851479.08392495', 'volume_7day': '1671323628.101736480019314692', 'buy_price': '5.19', 'sell_price': '5.23', '24H_fluctate': '-0.05', '24H_fluctate_rate': '-0.95'}, 'BAT': {'opening_price': '140', 'closing_price': '143', 'min_price': '139', 'max_price': '146', 'average_price': '142.5647', 'units_traded': '236740.8184932', 'volume_1day': '236740.8184932', 'volume_7day': '3961848.140937423639494768', 'buy_price': '143', 'sell_price': '145', '24H_fluctate': '3', '24H_fluctate_rate': '2.14'}, 'WET': {'opening_price': '14.6', 'closing_price': '15', 'min_price': '14.5', 'max_price': '15.3', 'average_price': '14.9859', 'units_traded': '29511644.06223178', 'volume_1day': '29511644.06223178', 'volume_7day': '396327332.688080269983224277', 'buy_price': '14.9', 'sell_price': '15', '24H_fluctate': '0.4', '24H_fluctate_rate': '2.73'}, 'XVG': {'opening_price': '7.38', 'closing_price': '7.71', 'min_price': '7.35', 'max_price': '7.78', 'average_price': '7.6172', 'units_traded': '16202186.8140431', 'volume_1day': '16202186.8140431', 'volume_7day': '401889903.42305854', 'buy_price': '7.61', 'sell_price': '7.71', '24H_fluctate': '0.33', '24H_fluctate_rate': '4.47'}, 'IOST': {'opening_price': '7.03', 'closing_price': '7.14', 'min_price': '7', 'max_price': '7.4', 'average_price': '7.2168', 'units_traded': '25281402.27356018', 'volume_1day': '25281402.27356018', 'volume_7day': '268214961.268041870355536408', 'buy_price': '7.11', 'sell_price': '7.2', '24H_fluctate': '0.11', '24H_fluctate_rate': '1.56'}, 'POLY': {'opening_price': '136', 'closing_price': '144', 'min_price': '133', 'max_price': '145', 'average_price': '139.6229', 'units_traded': '1321616.07949517', 'volume_1day': '1321616.07949517', 'volume_7day': '14341034.594784434330350047', 'buy_price': '143', 'sell_price': '144', '24H_fluctate': '8', '24H_fluctate_rate': '5.88'}, 'HC': {'opening_price': '1235', 'closing_price': '1505', 'min_price': '1217', 'max_price': '1592', 'average_price': '1417.9182', 'units_traded': '400146.14042587', 'volume_1day': '400146.14042587', 'volume_7day': '2204323.69737686', 'buy_price': '1487', 'sell_price': '1520', '24H_fluctate': '270', '24H_fluctate_rate': '21.86'}, 'MEETONE': [], 'ADD': [], 'HORUS': [], 'CHL': [], 'EOSDAC': [], 'BLACK': [], 'ROM': {'opening_price': '0.09', 'closing_price': '0.1', 'min_price': '0.08', 'max_price': '0.1', 'average_price': '0.0965', 'units_traded': '1767093085.47006667', 'volume_1day': '1767093085.47006667', 'volume_7day': '32964474417.266908484848484828', 'buy_price': '0.09', 'sell_price': '0.1', '24H_fluctate': '0.01', '24H_fluctate_rate': '11.11'}, 'AMO': {'opening_price': '0.88', 'closing_price': '0.87', 'min_price': '0.84', 'max_price': '0.9', 'average_price': '0.8636', 'units_traded': '395747819.95752729', 'volume_1day': '395747819.95752729', 'volume_7day': '2955025467.968057467081241084', 'buy_price': '0.86', 'sell_price': '0.87', '24H_fluctate': '-0.01', '24H_fluctate_rate': '-1.13'}, 'ETZ': {'opening_price': '137', 'closing_price': '139', 'min_price': '134', 'max_price': '146', 'average_price': '139.6105', 'units_traded': '3024517.04333957', 'volume_1day': '3024517.04333957', 'volume_7day': '466277240.792671772888586404', 'buy_price': '139', 'sell_price': '141', '24H_fluctate': '2', '24H_fluctate_rate': '1.45'}, 'ARN': {'opening_price': '328', 'closing_price': '327', 'min_price': '321', 'max_price': '344', 'average_price': '329.3016', 'units_traded': '204201.50942082', 'volume_1day': '204201.50942082', 'volume_7day': '5144684.94334405', 'buy_price': '327', 'sell_price': '330', '24H_fluctate': '-1', '24H_fluctate_rate': '-0.30'}, 'date': '1547971161788'}\n"
     ]
    }
   ],
   "source": [
    "currency = requests.get('https://api.bithumb.com/public/ticker/all').json()['data']\n",
    "print(currency)"
   ]
  },
  {
   "cell_type": "code",
   "execution_count": 6,
   "metadata": {
    "collapsed": true
   },
   "outputs": [
    {
     "name": "stdout",
     "output_type": "stream",
     "text": [
      "BTC 상승장\n",
      "ETH 상승장\n",
      "DASH 상승장\n",
      "LTC 상승장\n",
      "ETC 상승장\n",
      "XRP 하락장\n",
      "BCH 상승장\n",
      "XMR 상승장\n",
      "ZEC 상승장\n",
      "QTUM 상승장\n",
      "BTG 상승장\n",
      "EOS 상승장\n",
      "ICX 상승장\n",
      "VET 상승장\n",
      "TRX 하락장\n",
      "ELF 상승장\n",
      "MITH 상승장\n",
      "MCO 하락장\n",
      "OMG 상승장\n",
      "KNC 하락장\n",
      "GNT 상승장\n",
      "ZIL 상승장\n",
      "ETHOS 상승장\n",
      "PAY 상승장\n",
      "WAX 상승장\n",
      "POWR 상승장\n",
      "LRC 상승장\n",
      "GTO 상승장\n",
      "STEEM 상승장\n",
      "STRAT 상승장\n",
      "ZRX 하락장\n",
      "REP 상승장\n",
      "AE 상승장\n",
      "XEM 상승장\n",
      "SNT 하락장\n",
      "ADA 상승장\n",
      "PPT 상승장\n",
      "CTXC 상승장\n",
      "CMT 상승장\n",
      "THETA 하락장\n",
      "WTC 상승장\n",
      "ITC 상승장\n",
      "TRUE 상승장\n",
      "ABT 상승장\n",
      "RNT 상승장\n",
      "PLY 상승장\n",
      "WAVES 상승장\n",
      "LINK 상승장\n",
      "ENJ 상승장\n",
      "PST 상승장\n",
      "SALT 상승장\n",
      "RDN 상승장\n",
      "LOOM 상승장\n",
      "BHPC 상승장\n",
      "PIVX 상승장\n",
      "INS 상승장\n",
      "BCD 상승장\n",
      "BZNT 상승장\n",
      "XLM 하락장\n",
      "OCN 상승장\n",
      "BSV 상승장\n",
      "TMTG 상승장\n",
      "BAT 상승장\n",
      "WET 상승장\n",
      "XVG 상승장\n",
      "IOST 상승장\n",
      "POLY 상승장\n",
      "HC 상승장\n",
      "ROM 상승장\n",
      "AMO 상승장\n",
      "ETZ 상승장\n",
      "ARN 상승장\n"
     ]
    }
   ],
   "source": [
    "# 아래에 코드를 작성하세요.\n",
    "\n",
    "for k,v in currency.items():\n",
    "    #1번째 돌리기: key == 'BTC', value == {'opening_price':'4269000','closing_price':'4328000', .....}\n",
    "    try:\n",
    "        a = float(v['opening_price']) + float(v['max_price']) - float(v['min_price'])\n",
    "        b = float(v['max_price'])\n",
    "        if a > b:\n",
    "            print(f'{k} 상승장')\n",
    "        else:\n",
    "            print(f'{k} 하락장')\n",
    "    \n",
    "    except TypeError:\n",
    "        pass\n",
    "\n",
    "    \n",
    "#     if int(i['opening_prices'])+int(i['max_prices'])-int(i['min_prices']) > int(i['max_prices']):\n",
    "#         print(f'{i} 상승장')\n",
    "#     else:\n",
    "#         print('하락장')\n"
   ]
  },
  {
   "cell_type": "code",
   "execution_count": 7,
   "metadata": {
    "collapsed": true
   },
   "outputs": [
    {
     "name": "stdout",
     "output_type": "stream",
     "text": [
      "BTC 상승장\n",
      "ETH 상승장\n",
      "DASH 상승장\n",
      "LTC 상승장\n",
      "ETC 상승장\n",
      "XRP 하락장\n",
      "BCH 상승장\n",
      "XMR 상승장\n",
      "ZEC 상승장\n",
      "QTUM 상승장\n",
      "BTG 상승장\n",
      "EOS 상승장\n",
      "ICX 상승장\n",
      "VET 상승장\n",
      "TRX 하락장\n",
      "ELF 상승장\n",
      "MITH 상승장\n",
      "MCO 하락장\n",
      "OMG 상승장\n",
      "KNC 하락장\n",
      "GNT 상승장\n",
      "ZIL 상승장\n",
      "ETHOS 상승장\n",
      "PAY 상승장\n",
      "WAX 상승장\n",
      "POWR 상승장\n",
      "LRC 상승장\n",
      "GTO 상승장\n",
      "STEEM 상승장\n",
      "STRAT 상승장\n",
      "ZRX 하락장\n",
      "REP 상승장\n",
      "AE 상승장\n",
      "XEM 상승장\n",
      "SNT 하락장\n",
      "ADA 상승장\n",
      "PPT 상승장\n",
      "CTXC 상승장\n",
      "CMT 상승장\n",
      "THETA 하락장\n",
      "WTC 상승장\n",
      "ITC 상승장\n",
      "TRUE 상승장\n",
      "ABT 상승장\n",
      "RNT 상승장\n",
      "PLY 상승장\n",
      "WAVES 상승장\n",
      "LINK 상승장\n",
      "ENJ 상승장\n",
      "PST 상승장\n",
      "SALT 상승장\n",
      "RDN 상승장\n",
      "LOOM 상승장\n",
      "BHPC 상승장\n",
      "PIVX 상승장\n",
      "INS 상승장\n",
      "BCD 상승장\n",
      "BZNT 상승장\n",
      "XLM 하락장\n",
      "OCN 상승장\n",
      "BSV 상승장\n",
      "TMTG 상승장\n",
      "BAT 상승장\n",
      "WET 상승장\n",
      "XVG 상승장\n",
      "IOST 상승장\n",
      "POLY 상승장\n",
      "HC 상승장\n",
      "ROM 상승장\n",
      "AMO 상승장\n",
      "ETZ 상승장\n",
      "ARN 상승장\n"
     ]
    }
   ],
   "source": [
    "#if 'max_price' in v:\n",
    "\n",
    "for k,v in currency.items():\n",
    "    #1번째 돌리기: key == 'BTC', value == {'opening_price':'4269000','closing_price':'4328000', .....}\n",
    "    if 'max_price' in v:\n",
    "        a = float(v['opening_price']) + float(v['max_price']) - float(v['min_price'])\n",
    "        b = float(v['max_price'])\n",
    "        if a > b:\n",
    "            print(f'{k} 상승장')\n",
    "        else:\n",
    "            print(f'{k} 하락장')"
   ]
  },
  {
   "cell_type": "markdown",
   "metadata": {},
   "source": [
    "# D03 Problem\n",
    "## 복소수 변환, 참, 거짓, 2진수 변환"
   ]
  },
  {
   "cell_type": "markdown",
   "metadata": {},
   "source": [
    "## `abs()`\n",
    "\n",
    "> 절대값은 숫자(int, float)가 들어오면 절대값을 반환하고, 복소수(complex)가 들어오면 그 크기를 반환합니다.\n",
    "> \n",
    "> `my_abs(x)`를 만들어보세요."
   ]
  },
  {
   "cell_type": "markdown",
   "metadata": {},
   "source": [
    "**공식문서**\n",
    "<center>\n",
    "    <img src=\"./images/P01/abs0.png\", alt=\"\">\n",
    "</center>"
   ]
  },
  {
   "cell_type": "markdown",
   "metadata": {},
   "source": [
    "**복소수 크기 구하는법**\n",
    "<center>\n",
    "    <img src=\"./images/P01/abs.png\", alt=\"\">\n",
    "</center>"
   ]
  },
  {
   "cell_type": "code",
   "execution_count": 9,
   "metadata": {},
   "outputs": [
    {
     "name": "stdout",
     "output_type": "stream",
     "text": [
      "5.0 0.0 5\n"
     ]
    }
   ],
   "source": [
    "# 예제 입력 및 출력\n",
    "print(abs(3+4j), abs(-0.0), abs(-5))"
   ]
  },
  {
   "cell_type": "code",
   "execution_count": 15,
   "metadata": {},
   "outputs": [
    {
     "name": "stdout",
     "output_type": "stream",
     "text": [
      "5.0\n",
      "0\n",
      "3\n",
      "0.0\n"
     ]
    }
   ],
   "source": [
    "#아래에 코드를 작성해 주세요\n",
    "def my_abs(x):\n",
    "    if type(x) == int or type(x) == float:\n",
    "        if x < 0:\n",
    "            return -x\n",
    "        elif x > 0:\n",
    "            return x   \n",
    "        elif x == 0:\n",
    "            return x**2\n",
    "    \n",
    "    else:\n",
    "        return (x.real**2 + x.imag**2)**(1/2)\n",
    "               \n",
    "print(my_abs(3+4j))  \n",
    "print(my_abs(0))\n",
    "print(my_abs(-3))\n",
    "print(my_abs(-0.0)) "
   ]
  },
  {
   "cell_type": "markdown",
   "metadata": {},
   "source": [
    "## `all(x)`\n",
    "\n",
    "> all은 인자로 받는 iterable(range, list)의 모든 요소가 참이거나 iterable(예. rarnge, list)\n",
    "  비어있으면 True를 반환합니다.\n",
    ">\n",
    "> 이와 같은 `my_all(x)`을 작성해보세요"
   ]
  },
  {
   "cell_type": "code",
   "execution_count": 16,
   "metadata": {},
   "outputs": [
    {
     "name": "stdout",
     "output_type": "stream",
     "text": [
      "True\n",
      "False\n",
      "True\n",
      "False\n"
     ]
    }
   ],
   "source": [
    "# 예제 입력 및 출력\n",
    "print(all([1, 2, 5, '6']))\n",
    "print(all([[], 2, 5, '6']))\n",
    "print(all([]))\n",
    "print(all([[], [], [], []]))"
   ]
  },
  {
   "cell_type": "code",
   "execution_count": 1,
   "metadata": {},
   "outputs": [
    {
     "name": "stdout",
     "output_type": "stream",
     "text": [
      "True\n",
      "False\n",
      "True\n",
      "False\n"
     ]
    }
   ],
   "source": [
    "# 아래에 코드를 작성해주세요.\n",
    "\n",
    "def my_all(x):\n",
    "    for i in x:\n",
    "        if not i:\n",
    "            return False\n",
    "    return True\n",
    "\n",
    "print(my_all([1, 2, 5, '6']))\n",
    "print(my_all([[], 2, 5, '6']))\n",
    "print(my_all([]))\n",
    "print(my_all([[], [], [], []]))"
   ]
  },
  {
   "cell_type": "markdown",
   "metadata": {},
   "source": [
    "## `any(x)`\n",
    "\n",
    "> any는 인자로 받는 iterable(range, list)의 요소 중 하나라도 참이면 True를 반환하고, 비어있으면 False를 반환합니다.\n",
    ">\n",
    "> 이와 같은 `my_any(x)`를 작성해보세요."
   ]
  },
  {
   "cell_type": "code",
   "execution_count": 23,
   "metadata": {},
   "outputs": [
    {
     "name": "stdout",
     "output_type": "stream",
     "text": [
      "True\n",
      "True\n",
      "False\n",
      "True\n"
     ]
    }
   ],
   "source": [
    "# 예제 입력 및 출력\n",
    "print(any([1, 2, 5, '6']))\n",
    "print(any([[], 2, 5, '6']))\n",
    "print(any([0]))\n",
    "print(any([6,[]]))"
   ]
  },
  {
   "cell_type": "code",
   "execution_count": 25,
   "metadata": {},
   "outputs": [
    {
     "name": "stdout",
     "output_type": "stream",
     "text": [
      "True\n",
      "True\n",
      "False\n"
     ]
    }
   ],
   "source": [
    "# 아래에 코드를 작성해주세요.\n",
    "def my_any(x):\n",
    "    for i in x:\n",
    "        if i:\n",
    "            return True\n",
    "    return False\n",
    "\n",
    "print(my_any([1, 2, 5, '6']))\n",
    "print(my_any([[], 2, 5, '6']))\n",
    "print(my_any([0]))"
   ]
  },
  {
   "cell_type": "markdown",
   "metadata": {},
   "source": [
    "## `bin(integer)`\n",
    "\n",
    "> `양의 정수`를 받아서 앞에 '0b'를 붙어 있는 2진수로 표현됩니다.\n",
    ">\n",
    "> 이와 같은 `my_bin(x)`를 작성해보세요.\n",
    "\n",
    "* 음수는 고려하지 않아도 됩니다."
   ]
  },
  {
   "cell_type": "markdown",
   "metadata": {},
   "source": [
    "<center>\n",
    "    <img src=\"./images/P01/bin.png\", alt=\"bin\">\n",
    "</center>"
   ]
  },
  {
   "cell_type": "code",
   "execution_count": 38,
   "metadata": {},
   "outputs": [
    {
     "name": "stdout",
     "output_type": "stream",
     "text": [
      "0b11001\n"
     ]
    }
   ],
   "source": [
    "#반복문\n",
    "def my_bin(x):\n",
    "    result = ''\n",
    "    while x > 0:\n",
    "        mok = x // 2\n",
    "        nam = x % 2\n",
    "        x = mok\n",
    "        result = str(nam)+ result\n",
    "\n",
    "    return '0b' + result\n",
    "\n",
    "print(my_bin(25))"
   ]
  },
  {
   "cell_type": "code",
   "execution_count": 34,
   "metadata": {},
   "outputs": [
    {
     "name": "stdout",
     "output_type": "stream",
     "text": [
      "0b11001\n"
     ]
    }
   ],
   "source": [
    "#재귀\n",
    "def my_bin(x):\n",
    "    mok = x // 2\n",
    "    nam = x % 2\n",
    "    result = ''\n",
    "    if mok == 0:\n",
    "        return result + '0b1'\n",
    "    \n",
    "    else:\n",
    "        return my_bin(x//2) + str(nam)\n",
    " \n",
    "print(my_bin(25))"
   ]
  },
  {
   "cell_type": "code",
   "execution_count": null,
   "metadata": {},
   "outputs": [],
   "source": [
    "https://wayhome25.github.io/cs/2017/04/15/cs-16-1-recursion/"
   ]
  },
  {
   "cell_type": "markdown",
   "metadata": {},
   "source": [
    "# D04 재귀함수"
   ]
  },
  {
   "cell_type": "markdown",
   "metadata": {},
   "source": [
    "## 실습 문제 - 팩토리얼 계산\n",
    "\n",
    "> `팩토리얼(factorial)`을 계산하는 함수 `fact(n)`를 작성해봅시다. \n",
    ">\n",
    "> n은 1보다 큰 정수라고 가정하고, 팩토리얼을 계산한 값을 반환합니다."
   ]
  },
  {
   "cell_type": "code",
   "execution_count": 107,
   "metadata": {},
   "outputs": [
    {
     "name": "stdout",
     "output_type": "stream",
     "text": [
      "120\n"
     ]
    }
   ],
   "source": [
    "#반복문\n",
    "\n",
    "def fact(x):\n",
    "    result = 1\n",
    "    for i in range(1,x+1):\n",
    "        result *= i\n",
    "    return result\n",
    "\n",
    "print(fact(5))"
   ]
  },
  {
   "cell_type": "code",
   "execution_count": 109,
   "metadata": {},
   "outputs": [
    {
     "name": "stdout",
     "output_type": "stream",
     "text": [
      "120\n"
     ]
    }
   ],
   "source": [
    "#재귀 함수\n",
    "\n",
    "def factorial(x):\n",
    "    if x == 2:\n",
    "        return 2\n",
    "    else:\n",
    "        return x * factorial(x-1)\n",
    "        \n",
    "print(factorial(5))\n",
    "    "
   ]
  },
  {
   "cell_type": "markdown",
   "metadata": {},
   "source": [
    "## 실습문제 - 피보나치 수열\n",
    "\n",
    "> 피보나치 수열은 다음과 같은 점화식이 있다. \n",
    ">\n",
    "> 피보나치 값을 리턴하는 두가지 방식의 코드를 모두 작성해보자.\n",
    "\n",
    "$$\n",
    "\\displaystyle F_0 = F_1 = 1\n",
    "$$\n",
    "\n",
    "$$\n",
    "F_n=F_{n-1}+F_{n-2}\\qquad(n\\in\\{2,3,4,\\dots\\})\n",
    "$$\n",
    "\n",
    "1) `fib(n)` : 재귀함수\n",
    "\n",
    "2) `fib_loop(n)` : 반복문 활용한 함수\n",
    "\n",
    "---\n",
    "예시)\n",
    "```python\n",
    "fib(10) #=> 89\n",
    "```"
   ]
  },
  {
   "cell_type": "code",
   "execution_count": 114,
   "metadata": {},
   "outputs": [
    {
     "name": "stdout",
     "output_type": "stream",
     "text": [
      "89\n"
     ]
    }
   ],
   "source": [
    "#반복문\n",
    "\n",
    "def fib_loop(x):\n",
    "    base_lst = [1,1]\n",
    "    for i in range(2,x+1):\n",
    "        base_lst.append(base_lst[-1] + base_lst[-2])\n",
    "        \n",
    "    return base_lst[x]\n",
    "\n",
    "print(fib_loop(10))\n",
    "        \n",
    "    "
   ]
  },
  {
   "cell_type": "code",
   "execution_count": 122,
   "metadata": {},
   "outputs": [
    {
     "name": "stdout",
     "output_type": "stream",
     "text": [
      "89\n"
     ]
    }
   ],
   "source": [
    "#재귀 함수\n",
    "\n",
    "def fib(x):\n",
    "    if x < 2:\n",
    "        return 1\n",
    "    else:\n",
    "        return fib(x-1) + fib(x-2)\n",
    "\n",
    "print(fib(10))\n",
    "        "
   ]
  },
  {
   "cell_type": "markdown",
   "metadata": {},
   "source": [
    "# D04 Problem\n",
    "## 이상한 덧셈, 모음 제거하기, 문자열 탐색"
   ]
  },
  {
   "cell_type": "markdown",
   "metadata": {},
   "source": [
    "## 이상한 덧셈\n",
    "\n",
    "> 숫자 구성된 리스트에서 양의 정수의 합을 구하는 함수 `positive_sum`을 작성하세요.\n",
    "\n",
    "예시)\n",
    "\n",
    "```python\n",
    "positive_sum([1,-4,7,12]) #=> 20\n",
    "positive_sum([-1, -2, -3, -4]) #=> 0\n",
    "```"
   ]
  },
  {
   "cell_type": "code",
   "execution_count": 40,
   "metadata": {},
   "outputs": [
    {
     "name": "stdout",
     "output_type": "stream",
     "text": [
      "20\n",
      "0\n"
     ]
    }
   ],
   "source": [
    "def positive_sum(x):\n",
    "    result = 0 \n",
    "    for i in x:\n",
    "        if i < 0:\n",
    "            continue\n",
    "        else:\n",
    "            result += i\n",
    "    return result\n",
    "\n",
    "print(positive_sum([1,-4,7,12]))\n",
    "print(positive_sum([-1, -2, -3, -4]))\n",
    "            "
   ]
  },
  {
   "cell_type": "code",
   "execution_count": 42,
   "metadata": {},
   "outputs": [
    {
     "name": "stdout",
     "output_type": "stream",
     "text": [
      "20\n",
      "0\n"
     ]
    }
   ],
   "source": [
    "#고오급\n",
    "def positive_sum(x):\n",
    "    \n",
    "    return sum(i for i in x if i > 0)\n",
    "\n",
    "print(positive_sum([1,-4,7,12]))\n",
    "print(positive_sum([-1, -2, -3, -4]))"
   ]
  },
  {
   "cell_type": "markdown",
   "metadata": {},
   "source": [
    "## 모음 제거하기\n",
    "\n",
    "> 주어진 문자열에서 소문자 모음을 제거하는 함수 `shortcut`을 작성하세요.\n",
    "\n",
    "예시)\n",
    "\n",
    "```python\n",
    "shortcut(\"Life is too short, you need python\") #=> Lf s t shrt, y nd pythn\n",
    "```"
   ]
  },
  {
   "cell_type": "code",
   "execution_count": 44,
   "metadata": {},
   "outputs": [
    {
     "name": "stdout",
     "output_type": "stream",
     "text": [
      "Lf s t shrt, y nd pythn\n"
     ]
    }
   ],
   "source": [
    "#for문 사용\n",
    "def shortcut(x):\n",
    "    mo = \"aeiou\"\n",
    "    result =''\n",
    "    for i in x:\n",
    "        if i not in mo:\n",
    "            result += i\n",
    "    return result\n",
    "\n",
    "print(shortcut(\"Life is too short, you need python\"))"
   ]
  },
  {
   "cell_type": "code",
   "execution_count": 46,
   "metadata": {},
   "outputs": [
    {
     "name": "stdout",
     "output_type": "stream",
     "text": [
      "Lf s t shrt, y nd pythn\n"
     ]
    }
   ],
   "source": [
    "#replace 사용\n",
    "def shortcut(x):\n",
    "    for i in 'aeiou':\n",
    "        x = x.replace(i, '')\n",
    "    return x\n",
    "print(shortcut(\"Life is too short, you need python\"))"
   ]
  },
  {
   "cell_type": "markdown",
   "metadata": {},
   "source": [
    "## 문자열 탐색\n",
    "\n",
    "> 문자열 요소로만 이루어진 리스트를 넣었을 때, 문자열 길이가 2 이상이고 주어진 문자열의 첫번째와 마지막 문자가 같은 문자열의 수를 세는 함수 `start_end`를 작성하시오.\n",
    "\n",
    "예시)\n",
    "\n",
    "```python\n",
    "start_end(['level', 'asdwe', 's', 'abceda', 'gsdwrtfg']) #=> 3\n",
    "```"
   ]
  },
  {
   "cell_type": "code",
   "execution_count": 48,
   "metadata": {},
   "outputs": [
    {
     "name": "stdout",
     "output_type": "stream",
     "text": [
      "3\n"
     ]
    }
   ],
   "source": [
    "def start_end(x):\n",
    "    cnt = 0\n",
    "    for i in x:\n",
    "        if len(i) >1 and i[0] == i[-1]:\n",
    "            cnt +=1\n",
    "    return cnt\n",
    "\n",
    "\n",
    "print(start_end(['level', 'asdwe', 's', 'abceda', 'gsdwrtfg']))"
   ]
  },
  {
   "cell_type": "markdown",
   "metadata": {},
   "source": [
    "# D05 Problem\n",
    "## Collatz 추측, 솔로 천국 만들기"
   ]
  },
  {
   "cell_type": "markdown",
   "metadata": {},
   "source": [
    "## Collatz 추측\n",
    "\n",
    "> 1937년 Collatz란 사람에 의해 제기된 이 추측은, 주어진 수가 1이 될때까지 다음 작업을 반복하면, 모든 수를 1로 만들 수 있다는 추측입니다. 작업은 다음과 같습니다.\n",
    ">\n",
    "> 1. 입력된 수가 짝수라면 2로 나눕니다. \n",
    "> 2. 입력된 수가 홀수라면 3을 곱하고 1을 더합니다.\n",
    "> 3. 결과로 나온 수에 같은 작업을 1이 될 때까지 반복합니다.\n",
    ">\n",
    "> 예를 들어, 입력된 수가 6이라면 6→3→10→5→16→8→4→2→1 이 되어 총 8번 만에 1이 됩니다.\n",
    ">\n",
    "> 위 작업을 몇 번이나 반복해야하는지 반환하는 함수, collatz를 완성해 주세요.\n",
    ">\n",
    "> 단, 작업을 500번을 반복해도 1이 되지 않는다면 –1을 반환해 주세요.\n",
    "\n",
    "예시)\n",
    "\n",
    "```python\n",
    "collatz(6) #=> 8\n",
    "collatz(16) #=> 4\n",
    "collatz(626331) #=> -1\n",
    "```"
   ]
  },
  {
   "cell_type": "code",
   "execution_count": 57,
   "metadata": {},
   "outputs": [
    {
     "name": "stdout",
     "output_type": "stream",
     "text": [
      "8\n",
      "4\n",
      "-1\n"
     ]
    }
   ],
   "source": [
    "def collatz(x):\n",
    "    cnt = 0\n",
    "    while x > 1:\n",
    "        if x % 2 == 0:\n",
    "            x = x //2\n",
    "            cnt += 1\n",
    "        elif x %2 ==1:\n",
    "            x = x*3+1\n",
    "            cnt += 1\n",
    "    \n",
    "    if cnt <= 500:\n",
    "        return cnt\n",
    "    else:\n",
    "        return -1\n",
    "    \n",
    "\n",
    "\n",
    "print(collatz(6)) #=> 8\n",
    "print(collatz(16)) #=> 4\n",
    "print(collatz(626331)) #=> -1"
   ]
  },
  {
   "cell_type": "code",
   "execution_count": 59,
   "metadata": {},
   "outputs": [
    {
     "name": "stdout",
     "output_type": "stream",
     "text": [
      "8\n",
      "4\n",
      "-1\n"
     ]
    }
   ],
   "source": [
    "def collatz(x):\n",
    "    for i in range(500):\n",
    "        x = x / 2 if x % 2 == 0 else x *3 +1\n",
    "        if x == 1:\n",
    "            return i+1\n",
    "    return -1\n",
    "\n",
    "print(collatz(6)) #=> 8\n",
    "print(collatz(16)) #=> 4\n",
    "print(collatz(626331)) #=> -1"
   ]
  },
  {
   "cell_type": "markdown",
   "metadata": {},
   "source": [
    "## 솔로 천국 만들기\n",
    "\n",
    "> 리스트가 주어집니다. 리스트의 각 요소는 숫자 0부터 9까지로 이루어져 있습니다. \n",
    ">\n",
    "> 이때, 리스트에서 연속적으로 나타나는 숫자는 하나만 남기고 전부 제거하려고 합니다. \n",
    ">\n",
    "> 리스트에서 연속적으로 나타나는 숫자는 제거하고 남은 수들을 반환하는 lonely 함수를 작성해 주세요.\n",
    ">\n",
    "> 단, 제거된 후 남은 수들을 반환할 때는 리스트의 요소들의 순서를 유지해야 합니다.  \n",
    "\n",
    "예시)\n",
    "\n",
    "```python\n",
    "lonely([1, 1, 3, 3, 0, 1, 1]) #=> [1, 3, 0, 1]\n",
    "lonely([4, 4, 4, 3, 3]) #=> [4,3]\n",
    "```\n"
   ]
  },
  {
   "cell_type": "code",
   "execution_count": 64,
   "metadata": {},
   "outputs": [
    {
     "name": "stdout",
     "output_type": "stream",
     "text": [
      "[1, 3, 0, 1]\n",
      "[4, 3]\n"
     ]
    }
   ],
   "source": [
    "def lonely(x):\n",
    "    result = []\n",
    "\n",
    "    for i in x:\n",
    "        if not result:\n",
    "            result.append(i)\n",
    "        elif result[-1] != i:\n",
    "            result.append(i)\n",
    "    return result\n",
    "\n",
    "\n",
    "\n",
    "print(lonely([1, 1, 3, 3, 0, 1, 1])) #=> [1, 3, 0, 1]\n",
    "print(lonely([4, 4, 4, 3, 3])) #=> [4,3]"
   ]
  },
  {
   "cell_type": "code",
   "execution_count": 66,
   "metadata": {},
   "outputs": [
    {
     "name": "stdout",
     "output_type": "stream",
     "text": [
      "[1, 3, 0, 1]\n",
      "[4, 3]\n"
     ]
    }
   ],
   "source": [
    "#강사님 풀이 과정\n",
    "def lonely1(numbers):\n",
    "    result = []\n",
    "    for n in numbers:\n",
    "        # True or Error의 경우가 생길 수 있는데,\n",
    "        #단축 평가로 인한 Error 회피\n",
    "        if not result or result[-1] != n: #not result => result에 값이 없다면, \n",
    "            result.append(n)\n",
    "    \n",
    "    return result\n",
    "\n",
    "\n",
    "print(lonely1([1, 1, 3, 3, 0, 1, 1])) #=> [1, 3, 0, 1]\n",
    "print(lonely1([4, 4, 4, 3, 3])) #=> [4,3]"
   ]
  },
  {
   "cell_type": "markdown",
   "metadata": {},
   "source": [
    "# D05 List Comprehension"
   ]
  },
  {
   "cell_type": "markdown",
   "metadata": {},
   "source": [
    "## 연습 문제\n",
    "\n",
    "### 짝짓기 - 곱집합\n",
    "\n",
    "> 주어진 두 list의 가능한 모든 조합을 담은 `pair` 리스트를 만들어주세요.\n",
    "\n",
    "1. 반복문 활용\n",
    "2. list comprehension 활용\n",
    "\n",
    "---\n",
    "\n",
    "```\n",
    "girls = ['jane', 'iu', 'mary']\n",
    "boys = ['justin', 'david', 'kim']\n",
    "\n",
    "예시 출력)\n",
    "    \n",
    "[('justin', 'jane'), ('justin', 'iu'), ('justin', 'mary'), ('david', 'jane'), ('david', 'iu'), ('david', 'mary'), ('kim', 'jane'), ('kim', 'iu'), ('kim', 'mary')]\n",
    "```"
   ]
  },
  {
   "cell_type": "code",
   "execution_count": 130,
   "metadata": {},
   "outputs": [
    {
     "name": "stdout",
     "output_type": "stream",
     "text": [
      "[('jane', 'justin'), ('jane', 'david'), ('jane', 'kim'), ('iu', 'justin'), ('iu', 'david'), ('iu', 'kim'), ('mary', 'justin'), ('mary', 'david'), ('mary', 'kim')]\n"
     ]
    }
   ],
   "source": [
    "#반복문\n",
    "girls = ['jane', 'iu', 'mary']\n",
    "boys = ['justin', 'david', 'kim']\n",
    "\n",
    "result = []\n",
    "\n",
    "for i in girls:\n",
    "    for k in boys:\n",
    "        result.append((i,k))\n",
    "        \n",
    "print(result)"
   ]
  },
  {
   "cell_type": "code",
   "execution_count": 131,
   "metadata": {},
   "outputs": [
    {
     "name": "stdout",
     "output_type": "stream",
     "text": [
      "[('jane', 'justin'), ('jane', 'david'), ('jane', 'kim'), ('iu', 'justin'), ('iu', 'david'), ('iu', 'kim'), ('mary', 'justin'), ('mary', 'david'), ('mary', 'kim')]\n"
     ]
    }
   ],
   "source": [
    "#list comprehension\n",
    "result1 = [(i,k) for i in girls for k in boys]\n",
    "print(result1)"
   ]
  },
  {
   "cell_type": "markdown",
   "metadata": {},
   "source": [
    "### 피타고라스 정리\n",
    "\n",
    "> 주어진 조건(x < y < z < 50) 내에서 피타고라스 방정식의 해를 찾아보세요.\n",
    "\n",
    "1. 반복문 활용\n",
    "\n",
    "2. list comprehension 활용\n",
    "\n",
    "```\n",
    "예시 출력)\n",
    "[(3, 4, 5), (5, 12, 13), (6, 8, 10), (7, 24, 25), (8, 15, 17), (9, 12, 15), (9, 40, 41), (10, 24, 26), (12, 16, 20), (12, 35, 37), (15, 20, 25), (15, 36, 39), (16, 30, 34), (18, 24, 30), (20, 21, 29), (21, 28, 35), (24, 32, 40), (27, 36, 45)]\n",
    "```"
   ]
  },
  {
   "cell_type": "code",
   "execution_count": 134,
   "metadata": {},
   "outputs": [
    {
     "name": "stdout",
     "output_type": "stream",
     "text": [
      "[(3, 4, 5), (5, 12, 13), (6, 8, 10), (7, 24, 25), (8, 15, 17), (9, 12, 15), (9, 40, 41), (10, 24, 26), (12, 16, 20), (12, 35, 37), (15, 20, 25), (15, 36, 39), (16, 30, 34), (18, 24, 30), (20, 21, 29), (21, 28, 35), (24, 32, 40), (27, 36, 45)]\n"
     ]
    }
   ],
   "source": [
    "#반복문\n",
    "result = []\n",
    "for x in range(1,50):\n",
    "    for y in range(1,50):\n",
    "        for z in range(1,50):\n",
    "            if x**2 + y**2 == z**2 and x<y<z:\n",
    "                result.append((x,y,z))\n",
    "\n",
    "print(result)"
   ]
  },
  {
   "cell_type": "code",
   "execution_count": 135,
   "metadata": {},
   "outputs": [
    {
     "name": "stdout",
     "output_type": "stream",
     "text": [
      "[(3, 4, 5), (5, 12, 13), (6, 8, 10), (7, 24, 25), (8, 15, 17), (9, 12, 15), (9, 40, 41), (10, 24, 26), (12, 16, 20), (12, 35, 37), (15, 20, 25), (15, 36, 39), (16, 30, 34), (18, 24, 30), (20, 21, 29), (21, 28, 35), (24, 32, 40), (27, 36, 45)]\n"
     ]
    }
   ],
   "source": [
    "#list comprehension\n",
    "result = [(x,y,z) for x in range(50) for y in range(50) for z in range(50) if x**2 + y**2 == z**2 and x<y<z]\n",
    "print(result)"
   ]
  },
  {
   "cell_type": "markdown",
   "metadata": {},
   "source": [
    "### 모음 제거하기\n",
    "\n",
    "> 다음의 문장에서 모음(a, e, i, o, u)를 모두 제거하시오.\n",
    "\n",
    "1. list comprehension만 사용해보세요.\n",
    "\n",
    "``` \n",
    "    words = 'Life is too short, you need python!'\n",
    "\n",
    "    예시출력)\n",
    "    Lf s t shrt, y nd pythn!\n",
    "```"
   ]
  },
  {
   "cell_type": "code",
   "execution_count": 138,
   "metadata": {},
   "outputs": [
    {
     "name": "stdout",
     "output_type": "stream",
     "text": [
      "Lf s t shrt, y nd pythn!\n"
     ]
    }
   ],
   "source": [
    "words = 'Life is too short, you need python!'\n",
    "result = [a for a in words if a not in 'aeiou']\n",
    "print(''.join(result))"
   ]
  },
  {
   "cell_type": "markdown",
   "metadata": {},
   "source": [
    "# D06 Problem - List Comprehension\n",
    "## 소대소대,  숫자패턴, 무엇이 중복일까"
   ]
  },
  {
   "cell_type": "markdown",
   "metadata": {},
   "source": [
    "## 소대소대\n",
    "\n",
    "> 단어의 짝수번째 알파벳은 대문자로, 홀수번째 알파벳은 소문자로 바꾼 문자열을 return 하는 함수 `up_and_low`을 작성하세요.\n",
    "\n",
    "예시)\n",
    "```python\n",
    "up_and_low('applepie') #=> aPpLePiE\n",
    "up_and_low('spaceship') #=> sPaCeShIp\n",
    "```"
   ]
  },
  {
   "cell_type": "code",
   "execution_count": 78,
   "metadata": {},
   "outputs": [
    {
     "name": "stdout",
     "output_type": "stream",
     "text": [
      "aPpLePiE\n",
      "sPaCeShIp\n"
     ]
    }
   ],
   "source": [
    "def up_and_low(x):\n",
    "    x_lst = list(x)\n",
    "    for i in range(1, len(x_lst),2):\n",
    "        x_lst[i] = x_lst[i].upper()\n",
    "    for i in range(0, len(x_lst),2):\n",
    "        x_lst[i] = x_lst[i].lower()\n",
    "        \n",
    "    return ''.join(x_lst)\n",
    " \n",
    "print(up_and_low('applepie')) #=> aPpLePiE\n",
    "print(up_and_low('spaceship')) #=> sPaCeShIp"
   ]
  },
  {
   "cell_type": "code",
   "execution_count": 79,
   "metadata": {},
   "outputs": [
    {
     "name": "stdout",
     "output_type": "stream",
     "text": [
      "aPpLePiE\n",
      "sPaCeShIp\n"
     ]
    }
   ],
   "source": [
    "#강사님 풀이 과정\n",
    "def up_and_low(x):\n",
    "    result = ''\n",
    "    for i, c in enumerate(x):\n",
    "        if i % 2:\n",
    "            result += c.upper()\n",
    "        else:\n",
    "            result += c.lower()\n",
    "    return result\n",
    "\n",
    "\n",
    "print(up_and_low('applepie')) #=> aPpLePiE\n",
    "print(up_and_low('spaceship')) #=> sPaCeShIp"
   ]
  },
  {
   "cell_type": "code",
   "execution_count": 82,
   "metadata": {},
   "outputs": [
    {
     "name": "stdout",
     "output_type": "stream",
     "text": [
      "aPpLePiE\n",
      "sPaCeShIp\n"
     ]
    }
   ],
   "source": [
    "#list comprehension\n",
    "def up_and_low(x):\n",
    "    result = [c.upper() if i % 2 else c.lower() for i, c in enumerate(x)]\n",
    "    return ''.join(result)\n",
    "\n",
    "print(up_and_low('applepie')) #=> aPpLePiE\n",
    "print(up_and_low('spaceship')) #=> sPaCeShIp"
   ]
  },
  {
   "cell_type": "markdown",
   "metadata": {},
   "source": [
    "## 숫자 패턴\n",
    "\n",
    "> 원하는 행까지 아래의 패턴을 생성하는 함수 `pattern`를 작성하세요. 만약 인자가 0이나 음의 정수인 경우 \"\" 즉, 빈 문자열로 반환하세요. 짝수가 인수로 전달되면 패턴은 통과된 짝수보다 작은 최대 홀수까지 계속되어야 합니다.\n",
    "\n",
    "예시)\n",
    "\n",
    "```python\n",
    "pattern(9)\n",
    "\n",
    "1\n",
    "333\n",
    "55555\n",
    "7777777\n",
    "999999999\n",
    "\n",
    "pattern(6)\n",
    "\n",
    "1\n",
    "333\n",
    "55555\n",
    "```\n",
    "\n",
    "주의)\n",
    "\n",
    "- 패턴에 공백은 없습니다.\n",
    "- 함수 내부에서 `print()`를 사용하는 것이 아니라, 하나의 문자열을 `return`하여서 출력하여야 합니다."
   ]
  },
  {
   "cell_type": "code",
   "execution_count": 85,
   "metadata": {},
   "outputs": [
    {
     "name": "stdout",
     "output_type": "stream",
     "text": [
      "1\n",
      "333\n",
      "55555\n",
      "7777777\n",
      "999999999\n",
      "\n",
      "1\n",
      "333\n",
      "55555\n",
      "\n"
     ]
    }
   ],
   "source": [
    "def pattern(x):\n",
    "    result = ''\n",
    "    if x > 0:\n",
    "        for i in range(1, x+1, 2):\n",
    "            for j in range(i):\n",
    "                result += str(i)\n",
    "            result += '\\n'\n",
    "        return result\n",
    "    else:\n",
    "        return \"\"\n",
    "                \n",
    "print(pattern(9))\n",
    "print(pattern(6))"
   ]
  },
  {
   "cell_type": "code",
   "execution_count": 87,
   "metadata": {},
   "outputs": [
    {
     "name": "stdout",
     "output_type": "stream",
     "text": [
      "1\n",
      "333\n",
      "55555\n",
      "7777777\n",
      "999999999\n",
      "\n",
      "1\n",
      "333\n",
      "55555\n",
      "\n"
     ]
    }
   ],
   "source": [
    "#강사님 풀이 과정\n",
    "def pattern(x):\n",
    "    result = ''\n",
    "    for i in range(1,x+1):\n",
    "        if i % 2:\n",
    "            result += str(i)*i +'\\n'\n",
    "    return result\n",
    "\n",
    "print(pattern(9))\n",
    "print(pattern(6))"
   ]
  },
  {
   "cell_type": "code",
   "execution_count": 89,
   "metadata": {},
   "outputs": [
    {
     "name": "stdout",
     "output_type": "stream",
     "text": [
      "1\n",
      "333\n",
      "55555\n",
      "7777777\n",
      "999999999\n",
      "1\n",
      "333\n",
      "55555\n"
     ]
    }
   ],
   "source": [
    "#list comprehension\n",
    "def pattern(x):\n",
    "    r = [str(i)*i for i in range(1,x+1) if i %2]\n",
    "    return'\\n'.join(r)\n",
    "\n",
    "print(pattern(9))\n",
    "print(pattern(6))"
   ]
  },
  {
   "cell_type": "markdown",
   "metadata": {},
   "source": [
    "## 무엇이 중복일까\n",
    "\n",
    "> 중복된 요소만 뽑아서 출력하는 `duplicated` 함수를 작성하시오.\n",
    "\n",
    "예시)\n",
    "\n",
    "```python\n",
    "duplicated(['a', 'b', 'c', 'b', 'd', 'm', 'n', 'n', 'b']) #=> ['b', 'n']\n",
    "```"
   ]
  },
  {
   "cell_type": "code",
   "execution_count": 99,
   "metadata": {},
   "outputs": [
    {
     "name": "stdout",
     "output_type": "stream",
     "text": [
      "['n', 'b']\n"
     ]
    }
   ],
   "source": [
    "def duplicated(x):\n",
    "    result =[]\n",
    "    for i in x:\n",
    "        if x.count(i) > 1:\n",
    "            result.append(i)\n",
    "    return list(set(result))\n",
    "\n",
    "print(duplicated(['a', 'b', 'c', 'b', 'd', 'm', 'n', 'n', 'b']))"
   ]
  },
  {
   "cell_type": "code",
   "execution_count": 102,
   "metadata": {},
   "outputs": [
    {
     "name": "stdout",
     "output_type": "stream",
     "text": [
      "['n', 'b']\n"
     ]
    }
   ],
   "source": [
    "#list comprehension\n",
    "\n",
    "def duplicated(x):\n",
    "    result = list({i for i in x if x.count(i)>1})\n",
    "    return result\n",
    "\n",
    "print(duplicated(['a', 'b', 'c', 'b', 'd', 'm', 'n', 'n', 'b']))"
   ]
  },
  {
   "cell_type": "markdown",
   "metadata": {},
   "source": [
    "# D07 Problem\n",
    "## 문자열 계산, 딕셔너리 생성기, 시험 채점 시스템"
   ]
  },
  {
   "cell_type": "markdown",
   "metadata": {},
   "source": [
    "# 문자열 계산하기\n",
    "\n",
    "> 아래와 같이 문자열이 주어졌을 때, 바보같은 사용자를 위해 계산을 해주려고 한다.\n",
    ">\n",
    "> 이 계산기는 더하기와 빼기밖에 못한다.\n",
    ">\n",
    "> `calc(equation)`을 만들어봅시다.\n",
    "\n",
    "---\n",
    "\n",
    "예시)\n",
    "\n",
    "```python\n",
    "calc('123+2-124') #=> 1\n",
    "calc('-12+12-7979+9191') #=> 1212\n",
    "calc('+1-1+1-1+1-1+1-1+1-1+1-1+1-1+1-1+1-1+1-1+1-1+1-1+1-1+1-1+1-1+1-1') #=> 0\n",
    "```"
   ]
  },
  {
   "cell_type": "code",
   "execution_count": 140,
   "metadata": {},
   "outputs": [
    {
     "name": "stdout",
     "output_type": "stream",
     "text": [
      "1\n",
      "1212\n",
      "0\n"
     ]
    }
   ],
   "source": [
    "def calc(x):\n",
    "    x = x.replace('+', ' +')\n",
    "    x = x.replace('-', ' -')\n",
    "    return sum(list(map(int,x.split())))\n",
    "\n",
    "print(calc('123+2-124'))\n",
    "print(calc('-12+12-7979+9191'))\n",
    "print(calc('+1-1+1-1+1-1+1-1+1-1+1-1+1-1+1-1+1-1+1-1+1-1+1-1+1-1+1-1+1-1+1-1'))"
   ]
  },
  {
   "cell_type": "code",
   "execution_count": 141,
   "metadata": {},
   "outputs": [
    {
     "name": "stdout",
     "output_type": "stream",
     "text": [
      "1\n",
      "1212\n",
      "0\n"
     ]
    }
   ],
   "source": [
    "def calc(x):\n",
    "    result = 0\n",
    "    tmp = ''\n",
    "    for i in x:\n",
    "        if tmp!='' and not i.isdecimal():\n",
    "            result += int(tmp)\n",
    "            tmp = ''\n",
    "        tmp += i\n",
    "    return result + int(tmp)\n",
    "\n",
    "print(calc('123+2-124'))\n",
    "print(calc('-12+12-7979+9191'))\n",
    "print(calc('+1-1+1-1+1-1+1-1+1-1+1-1+1-1+1-1+1-1+1-1+1-1+1-1+1-1+1-1+1-1+1-1'))"
   ]
  },
  {
   "cell_type": "markdown",
   "metadata": {},
   "source": [
    "# 나만의 딕셔너리 생성기\n",
    "\n",
    "> key의 리스트와 value의 리스트로 딕셔너리를 생성하여 return 하는 `create_dict(keys, values)` 함수를 작성하세요.\n",
    ">\n",
    ">만약에 value의 갯수가 key의 갯수보다 부족한 경우, None을 채워 넣어야 합니다. 반대로 key의 갯수가 부족한 경우, 초과하는 value들은 무시해도 됩니다.\n",
    "\n",
    "예시)\n",
    "```python\n",
    "create_dict(['a', 'b', 'c', 'd'], [1, 2, 3]) #=> {'a': 1, 'b': 2, 'c': 3, 'd': None}\n",
    "create_dict(['a', 'b', 'c'], [1, 2, 3, 4]) #=> {'a': 1, 'b': 2, 'c': 3}\n",
    "```"
   ]
  },
  {
   "cell_type": "code",
   "execution_count": 143,
   "metadata": {},
   "outputs": [
    {
     "name": "stdout",
     "output_type": "stream",
     "text": [
      "{'a': 1, 'b': 2, 'c': 3, 'd': None}\n",
      "{'a': 1, 'b': 2, 'c': 3}\n"
     ]
    }
   ],
   "source": [
    "def create_dict(keys, values):\n",
    "    if len(keys) > len(values):\n",
    "        for i in range(len(keys)-len(values)):\n",
    "            values.append(None)\n",
    "    return dict(zip(keys, values))\n",
    "\n",
    "print(create_dict(['a', 'b', 'c', 'd'], [1, 2, 3]))\n",
    "print(create_dict(['a', 'b', 'c'], [1, 2, 3, 4]))"
   ]
  },
  {
   "cell_type": "code",
   "execution_count": 144,
   "metadata": {},
   "outputs": [
    {
     "name": "stdout",
     "output_type": "stream",
     "text": [
      "{'a': 1, 'b': 2, 'c': 3, 'd': None}\n",
      "{'a': 1, 'b': 2, 'c': 3}\n"
     ]
    }
   ],
   "source": [
    "#강사님 풀이 과정 - for문 사용\n",
    "def create_dict(keys, values):\n",
    "    new_dict = {}\n",
    "    for i in range(len(keys)):   \n",
    "        if i < len(values):      \n",
    "            new_dict[keys[i]] = values[i]\n",
    "        else:\n",
    "            new_dict[keys[i]] = None\n",
    "    \n",
    "    return new_dict\n",
    "\n",
    "print(create_dict(['a', 'b', 'c', 'd'], [1, 2, 3]))\n",
    "print(create_dict(['a', 'b', 'c'], [1, 2, 3, 4]))"
   ]
  },
  {
   "cell_type": "code",
   "execution_count": 145,
   "metadata": {},
   "outputs": [
    {
     "name": "stdout",
     "output_type": "stream",
     "text": [
      "{'a': 1, 'b': 2, 'c': 3, 'd': None}\n",
      "{'a': 1, 'b': 2, 'c': 3}\n"
     ]
    }
   ],
   "source": [
    "#강사님 풀이 과정 - zip 사용\n",
    "#zip: 길이가 작은 리스트를 기준으로 그룹핑항\n",
    "\n",
    "def create_dict(keys, values):\n",
    "    while len(keys) > len(values):\n",
    "        values.append(None)\n",
    "        \n",
    "    return dict(zip(keys, values))\n",
    "\n",
    "print(create_dict(['a', 'b', 'c', 'd'], [1, 2, 3]))\n",
    "print(create_dict(['a', 'b', 'c'], [1, 2, 3, 4]))"
   ]
  },
  {
   "cell_type": "markdown",
   "metadata": {},
   "source": [
    "# 시험 채점 시스템\n",
    "\n",
    "> 첫 번째 인자는 정답이 들어있는 리스트, 두 번째 인자는 사용자의 답이 들어있는 리스트입니다. 두 리스트는 비어있지 않으며 길이가 같습니다.\n",
    ">\n",
    "> 정답의 경우 +4점, 오답의 경우 -1점, 공백 응답(빈 문자열)의 경우 0점입니다. 만약, 점수가 0보다 작으면 0을 return 합니다.\n",
    ">\n",
    "> 위와 같이 시험 점수를 체크하는 함수 `check_score(real_answers, my_answers)` 을 작성하세요.\n",
    "\n",
    "예시)\n",
    "\n",
    "```python\n",
    "check_score([\"a\", \"a\", \"b\", \"b\"], [\"a\", \"c\", \"b\", \"d\"]) #=> 6\n",
    "check_score([\"a\", \"a\", \"c\", \"b\"], [\"a\", \"a\", \"b\", \"\"]) #=> 7\n",
    "check_score([\"a\", \"a\", \"b\", \"c\"], [\"a\", \"a\", \"b\", \"c\"]) #=> 16\n",
    "check_score([\"b\", \"c\", \"b\", \"a\"], [\"\", \"a\", \"a\", \"c\"]) #=> 0\n",
    "```"
   ]
  },
  {
   "cell_type": "code",
   "execution_count": 8,
   "metadata": {},
   "outputs": [
    {
     "name": "stdout",
     "output_type": "stream",
     "text": [
      "6\n",
      "7\n",
      "16\n",
      "0\n"
     ]
    }
   ],
   "source": [
    "def check_score(real_answers, my_answers):\n",
    "    score = 0\n",
    "    for i in range(len(real_answers)):\n",
    "        if real_answers[i] == my_answers[i]:\n",
    "            score += 4\n",
    "        elif my_answers[i] == \"\":\n",
    "            score += 0\n",
    "        elif real_answers[i] != my_answers[i]:\n",
    "            score += -1\n",
    "\n",
    "        \n",
    "        \n",
    "        if score < 0:\n",
    "            score = 0\n",
    "    \n",
    "    return score\n",
    "\n",
    "\n",
    "\n",
    "\n",
    "\n",
    "print(check_score([\"a\", \"a\", \"b\", \"b\"], [\"a\", \"c\", \"b\", \"d\"]))\n",
    "print(check_score([\"a\", \"a\", \"c\", \"b\"], [\"a\", \"a\", \"b\", \"\"]))\n",
    "print(check_score([\"a\", \"a\", \"b\", \"c\"], [\"a\", \"a\", \"b\", \"c\"]))\n",
    "print(check_score([\"b\", \"c\", \"b\", \"a\"], [\"\", \"a\", \"a\", \"c\"]))"
   ]
  },
  {
   "cell_type": "code",
   "execution_count": null,
   "metadata": {},
   "outputs": [],
   "source": []
  },
  {
   "cell_type": "code",
   "execution_count": 146,
   "metadata": {},
   "outputs": [
    {
     "name": "stdout",
     "output_type": "stream",
     "text": [
      "6\n",
      "7\n",
      "16\n",
      "0\n"
     ]
    }
   ],
   "source": [
    "# 여기에 코드를 작성하세요.\n",
    "def check_score(real_answers, my_answers):\n",
    "    result = 0\n",
    "    for i in range(len(real_answers)):\n",
    "        if real_answers[i] == my_answers[i]:\n",
    "            result += 4\n",
    "        elif my_answers[i] == \"\":\n",
    "            result += 0\n",
    "        elif real_answers[i] != my_answers[i]:\n",
    "            result += -1\n",
    "        \n",
    "        if result < 0:\n",
    "            result = 0\n",
    "    \n",
    "    return result\n",
    "\n",
    "print(check_score([\"a\", \"a\", \"b\", \"b\"], [\"a\", \"c\", \"b\", \"d\"]))\n",
    "print(check_score([\"a\", \"a\", \"c\", \"b\"], [\"a\", \"a\", \"b\", \"\"]))\n",
    "print(check_score([\"a\", \"a\", \"b\", \"c\"], [\"a\", \"a\", \"b\", \"c\"]))\n",
    "print(check_score([\"b\", \"c\", \"b\", \"a\"], [\"\", \"a\", \"a\", \"c\"]))"
   ]
  },
  {
   "cell_type": "code",
   "execution_count": 9,
   "metadata": {},
   "outputs": [
    {
     "name": "stdout",
     "output_type": "stream",
     "text": [
      "6\n",
      "7\n",
      "16\n",
      "0\n"
     ]
    }
   ],
   "source": [
    "#강사님 풀이 과정 - zip 사용\n",
    "def check_score(real_answers, my_answers):\n",
    "    return max(0, sum([4 if r == m else -1 for r,m in zip(real_answers, my_answers) if m]))\n",
    "\n",
    "print(check_score([\"a\", \"a\", \"b\", \"b\"], [\"a\", \"c\", \"b\", \"d\"]))\n",
    "print(check_score([\"a\", \"a\", \"c\", \"b\"], [\"a\", \"a\", \"b\", \"\"]))\n",
    "print(check_score([\"a\", \"a\", \"b\", \"c\"], [\"a\", \"a\", \"b\", \"c\"]))\n",
    "print(check_score([\"b\", \"c\", \"b\", \"a\"], [\"\", \"a\", \"a\", \"c\"]))"
   ]
  },
  {
   "cell_type": "code",
   "execution_count": null,
   "metadata": {},
   "outputs": [],
   "source": []
  },
  {
   "cell_type": "code",
   "execution_count": null,
   "metadata": {},
   "outputs": [],
   "source": [
    "def check_score(real_answers, my_answers):\n",
    "    return max(0, )\n",
    "\n",
    "\n",
    "\n",
    "\n",
    "\n",
    "print(check_score([\"a\", \"a\", \"b\", \"b\"], [\"a\", \"c\", \"b\", \"d\"]))\n",
    "print(check_score([\"a\", \"a\", \"c\", \"b\"], [\"a\", \"a\", \"b\", \"\"]))\n",
    "print(check_score([\"a\", \"a\", \"b\", \"c\"], [\"a\", \"a\", \"b\", \"c\"]))\n",
    "print(check_score([\"b\", \"c\", \"b\", \"a\"], [\"\", \"a\", \"a\", \"c\"]))"
   ]
  }
 ],
 "metadata": {
  "kernelspec": {
   "display_name": "Python 3",
   "language": "python",
   "name": "python3"
  },
  "language_info": {
   "codemirror_mode": {
    "name": "ipython",
    "version": 3
   },
   "file_extension": ".py",
   "mimetype": "text/x-python",
   "name": "python",
   "nbconvert_exporter": "python",
   "pygments_lexer": "ipython3",
   "version": "3.7.1"
  },
  "toc": {
   "base_numbering": 1,
   "nav_menu": {},
   "number_sections": true,
   "sideBar": true,
   "skip_h1_title": false,
   "title_cell": "Table of Contents",
   "title_sidebar": "Contents",
   "toc_cell": false,
   "toc_position": {},
   "toc_section_display": true,
   "toc_window_display": false
  }
 },
 "nbformat": 4,
 "nbformat_minor": 2
}
